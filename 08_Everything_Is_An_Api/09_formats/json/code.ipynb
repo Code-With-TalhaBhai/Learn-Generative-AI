{
 "cells": [
  {
   "cell_type": "code",
   "execution_count": 2,
   "metadata": {},
   "outputs": [
    {
     "name": "stdout",
     "output_type": "stream",
     "text": [
      "Requirement already satisfied: jsonschema in c:\\users\\taaaayaauaaaaaaaaaaa\\miniconda3\\envs\\myenv3_12\\lib\\site-packages (from -r requirements.txt (line 1)) (4.21.1)\n",
      "Requirement already satisfied: attrs>=22.2.0 in c:\\users\\taaaayaauaaaaaaaaaaa\\miniconda3\\envs\\myenv3_12\\lib\\site-packages (from jsonschema->-r requirements.txt (line 1)) (23.2.0)\n",
      "Requirement already satisfied: jsonschema-specifications>=2023.03.6 in c:\\users\\taaaayaauaaaaaaaaaaa\\miniconda3\\envs\\myenv3_12\\lib\\site-packages (from jsonschema->-r requirements.txt (line 1)) (2023.12.1)\n",
      "Requirement already satisfied: referencing>=0.28.4 in c:\\users\\taaaayaauaaaaaaaaaaa\\miniconda3\\envs\\myenv3_12\\lib\\site-packages (from jsonschema->-r requirements.txt (line 1)) (0.34.0)\n",
      "Requirement already satisfied: rpds-py>=0.7.1 in c:\\users\\taaaayaauaaaaaaaaaaa\\miniconda3\\envs\\myenv3_12\\lib\\site-packages (from jsonschema->-r requirements.txt (line 1)) (0.18.0)\n",
      "Note: you may need to restart the kernel to use updated packages.\n"
     ]
    }
   ],
   "source": [
    "%pip install -r requirements.txt"
   ]
  },
  {
   "cell_type": "markdown",
   "metadata": {},
   "source": [
    "### JSON-Schema Validation\n",
    "\n",
    "- Popular Libraries\n",
    "    1. jsonschema\n",
    "    2. orjson"
   ]
  },
  {
   "cell_type": "code",
   "execution_count": 6,
   "metadata": {},
   "outputs": [
    {
     "name": "stdout",
     "output_type": "stream",
     "text": [
      "Data is invalid 6 is less than the minimum of 21\n",
      "\n",
      "Failed validating 'minimum' in schema['properties']['age']:\n",
      "    {'minimum': 21, 'type': 'number'}\n",
      "\n",
      "On instance['age']:\n",
      "    6\n"
     ]
    }
   ],
   "source": [
    "from jsonschema import validate\n",
    "import jsonschema\n",
    "\n",
    "schema = {\n",
    "    \"type\":\"object\",\n",
    "    \"properties\":{\n",
    "        \"name\":{\"type\":\"string\"},\n",
    "        \"age\":{\"type\":\"number\",\"minimum\":21}\n",
    "    },\n",
    "    \"required\":[\"name\",\"age\"]\n",
    "}\n",
    "\n",
    "try:\n",
    "    # data = {\"name\":\"bhai\",\"age\":56} # json-data->Valid\n",
    "    data = {\"name\":\"bhai\",\"age\":6} # json-data->Invalid\n",
    "    validate(instance=data,schema=schema)\n",
    "    print(\"Data is valid\")\n",
    "except jsonschema.exceptions.ValidationError as e:\n",
    "    print(\"Data is invalid\",e)"
   ]
  }
 ],
 "metadata": {
  "kernelspec": {
   "display_name": "myenv3_12",
   "language": "python",
   "name": "python3"
  },
  "language_info": {
   "codemirror_mode": {
    "name": "ipython",
    "version": 3
   },
   "file_extension": ".py",
   "mimetype": "text/x-python",
   "name": "python",
   "nbconvert_exporter": "python",
   "pygments_lexer": "ipython3",
   "version": "3.12.0"
  }
 },
 "nbformat": 4,
 "nbformat_minor": 2
}
