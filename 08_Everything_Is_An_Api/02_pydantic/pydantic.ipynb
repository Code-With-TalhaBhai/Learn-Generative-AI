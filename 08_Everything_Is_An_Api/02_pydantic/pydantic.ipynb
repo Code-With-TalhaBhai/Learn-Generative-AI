{
 "cells": [
  {
   "cell_type": "code",
   "execution_count": 2,
   "metadata": {},
   "outputs": [
    {
     "name": "stdout",
     "output_type": "stream",
     "text": [
      "Requirement already satisfied: pydantic in c:\\users\\taaaayaauaaaaaaaaaaa\\miniconda3\\envs\\myenv3_12\\lib\\site-packages (from -r requirements.txt (line 1)) (2.5.3)\n",
      "Requirement already satisfied: annotated-types>=0.4.0 in c:\\users\\taaaayaauaaaaaaaaaaa\\miniconda3\\envs\\myenv3_12\\lib\\site-packages (from pydantic->-r requirements.txt (line 1)) (0.6.0)\n",
      "Requirement already satisfied: pydantic-core==2.14.6 in c:\\users\\taaaayaauaaaaaaaaaaa\\miniconda3\\envs\\myenv3_12\\lib\\site-packages (from pydantic->-r requirements.txt (line 1)) (2.14.6)\n",
      "Requirement already satisfied: typing-extensions>=4.6.1 in c:\\users\\taaaayaauaaaaaaaaaaa\\miniconda3\\envs\\myenv3_12\\lib\\site-packages (from pydantic->-r requirements.txt (line 1)) (4.8.0)\n",
      "Note: you may need to restart the kernel to use updated packages.\n"
     ]
    }
   ],
   "source": [
    "%pip install -r requirements.txt"
   ]
  },
  {
   "cell_type": "code",
   "execution_count": 19,
   "metadata": {},
   "outputs": [
    {
     "name": "stdout",
     "output_type": "stream",
     "text": [
      "2020-01-02 03:04:05+00:00\n",
      "datetime.datetime(2020, 1, 2, 3, 4, 5, tzinfo=TzInfo(UTC))\n",
      "(654, 23)\n"
     ]
    }
   ],
   "source": [
    "from pydantic import BaseModel\n",
    "from datetime import datetime\n",
    "from typing import Tuple\n",
    "\n",
    "# Defining Schema(model)\n",
    "class Delievery(BaseModel):\n",
    "    timestamp: datetime\n",
    "    dimensions: Tuple[int,int]\n",
    "\n",
    "\n",
    "d = Delievery(timestamp='2020-01-02T03:04:05Z',dimensions=[654,23])\n",
    "\n",
    "print(d.timestamp)\n",
    "print(repr(d.timestamp))\n",
    "print(d.dimensions)"
   ]
  },
  {
   "cell_type": "code",
   "execution_count": 4,
   "metadata": {},
   "outputs": [
    {
     "name": "stdout",
     "output_type": "stream",
     "text": [
      "<class '__main__.User'>\n",
      "53\n",
      "{'id': 53, 'name': 'John Doe', 'signup_ts': datetime.datetime(2020, 1, 2, 3, 4, 5, tzinfo=TzInfo(UTC)), 'tastes': {'chicken': 45}}\n"
     ]
    }
   ],
   "source": [
    "from datetime import datetime\n",
    "\n",
    "from pydantic import BaseModel, PositiveInt\n",
    "\n",
    "\n",
    "class User(BaseModel):\n",
    "    id: int  \n",
    "    name: str = 'John Doe'  \n",
    "    signup_ts: datetime | None  \n",
    "    tastes: dict[str, PositiveInt]  \n",
    "\n",
    "\n",
    "external_data = {\n",
    "    'id': 53,\n",
    "    'signup_ts': '2020-01-02T03:04:05Z',\n",
    "    'tastes': {\n",
    "        'chicken': 45\n",
    "    }\n",
    "}\n",
    "\n",
    "user = User(**external_data)\n",
    "\n",
    "print(type(user))\n",
    "print(user.id)\n",
    "print(user.model_dump()) # convert into json"
   ]
  },
  {
   "cell_type": "markdown",
   "metadata": {},
   "source": [
    "#### Just for understanding"
   ]
  },
  {
   "cell_type": "code",
   "execution_count": 5,
   "metadata": {},
   "outputs": [
    {
     "name": "stdout",
     "output_type": "stream",
     "text": [
      "53\n",
      "2020-01-02T03:04:05Z\n",
      "{'chicken': 45}\n"
     ]
    }
   ],
   "source": [
    "external_data = {\n",
    "    'id': 53,\n",
    "    'signup_ts': '2020-01-02T03:04:05Z',\n",
    "    'tastes': {\n",
    "        'chicken': 45\n",
    "    }\n",
    "}\n",
    "\n",
    "def func(id,signup_ts,tastes):\n",
    "    print(id)\n",
    "    print(signup_ts)\n",
    "    print(tastes)\n",
    "\n",
    "\n",
    "# printing multiple variables giving dictionary\n",
    "func(**external_data)\n",
    "\n",
    "\n",
    "# def func(**kwargs):\n",
    "#     print(kwargs)\n",
    "\n",
    "\n",
    "## printing Dictionary giving unlimited arguments\n",
    "# func(key='fjdskl',value='fjdkls')"
   ]
  },
  {
   "cell_type": "code",
   "execution_count": 11,
   "metadata": {},
   "outputs": [
    {
     "ename": "PydanticUserError",
     "evalue": "A non-annotated attribute was detected: `external_data = {'id': 64, 'name': 'jhkhkj', 'signup_ts': '2020-01-02T03:04:05Z', 'tastes': {'chicken': 4}}`. All model fields require a type annotation; if `external_data` is not meant to be a field, you may be able to resolve this error by annotating it as a `ClassVar` or updating `model_config['ignored_types']`.\n\nFor further information visit https://errors.pydantic.dev/2.5/u/model-field-missing-annotation",
     "output_type": "error",
     "traceback": [
      "\u001b[1;31m---------------------------------------------------------------------------\u001b[0m",
      "\u001b[1;31mPydanticUserError\u001b[0m                         Traceback (most recent call last)",
      "Cell \u001b[1;32mIn[11], line 9\u001b[0m\n\u001b[0;32m      1\u001b[0m \u001b[38;5;28;01mfrom\u001b[39;00m \u001b[38;5;21;01mpydantic\u001b[39;00m \u001b[38;5;28;01mimport\u001b[39;00m ValidationError\n\u001b[0;32m      3\u001b[0m \u001b[38;5;66;03m# class User(BaseModel):\u001b[39;00m\n\u001b[0;32m      4\u001b[0m \u001b[38;5;66;03m#     id: int\u001b[39;00m\n\u001b[0;32m      5\u001b[0m \u001b[38;5;66;03m#     name: str = \"Talha Bhai\",\u001b[39;00m\n\u001b[0;32m      6\u001b[0m \u001b[38;5;66;03m#     signup_ts : datetime | None\u001b[39;00m\n\u001b[0;32m      7\u001b[0m \u001b[38;5;66;03m#     tastes : dict[str,PositiveInt]\u001b[39;00m\n\u001b[1;32m----> 9\u001b[0m \u001b[38;5;28;43;01mclass\u001b[39;49;00m\u001b[43m \u001b[49m\u001b[38;5;21;43;01mUser\u001b[39;49;00m\u001b[43m(\u001b[49m\u001b[43mBaseModel\u001b[49m\u001b[43m)\u001b[49m\u001b[43m:\u001b[49m\n\u001b[0;32m     10\u001b[0m \u001b[43m    \u001b[49m\u001b[38;5;28;43mid\u001b[39;49m\u001b[43m:\u001b[49m\u001b[43m \u001b[49m\u001b[38;5;28;43mint\u001b[39;49m\u001b[43m  \u001b[49m\n\u001b[0;32m     11\u001b[0m \u001b[43m    \u001b[49m\u001b[43mname\u001b[49m\u001b[43m:\u001b[49m\u001b[43m \u001b[49m\u001b[38;5;28;43mstr\u001b[39;49m\u001b[43m \u001b[49m\u001b[38;5;241;43m=\u001b[39;49m\u001b[43m \u001b[49m\u001b[38;5;124;43m'\u001b[39;49m\u001b[38;5;124;43mJohn Doe\u001b[39;49m\u001b[38;5;124;43m'\u001b[39;49m\u001b[43m  \u001b[49m\n",
      "File \u001b[1;32mc:\\Users\\taaaayaauaaaaaaaaaaa\\miniconda3\\envs\\myenv3_12\\Lib\\site-packages\\pydantic\\_internal\\_model_construction.py:92\u001b[0m, in \u001b[0;36mModelMetaclass.__new__\u001b[1;34m(mcs, cls_name, bases, namespace, __pydantic_generic_metadata__, __pydantic_reset_parent_namespace__, _create_model_module, **kwargs)\u001b[0m\n\u001b[0;32m     90\u001b[0m config_wrapper \u001b[38;5;241m=\u001b[39m ConfigWrapper\u001b[38;5;241m.\u001b[39mfor_model(bases, namespace, kwargs)\n\u001b[0;32m     91\u001b[0m namespace[\u001b[38;5;124m'\u001b[39m\u001b[38;5;124mmodel_config\u001b[39m\u001b[38;5;124m'\u001b[39m] \u001b[38;5;241m=\u001b[39m config_wrapper\u001b[38;5;241m.\u001b[39mconfig_dict\n\u001b[1;32m---> 92\u001b[0m private_attributes \u001b[38;5;241m=\u001b[39m \u001b[43minspect_namespace\u001b[49m\u001b[43m(\u001b[49m\n\u001b[0;32m     93\u001b[0m \u001b[43m    \u001b[49m\u001b[43mnamespace\u001b[49m\u001b[43m,\u001b[49m\u001b[43m \u001b[49m\u001b[43mconfig_wrapper\u001b[49m\u001b[38;5;241;43m.\u001b[39;49m\u001b[43mignored_types\u001b[49m\u001b[43m,\u001b[49m\u001b[43m \u001b[49m\u001b[43mclass_vars\u001b[49m\u001b[43m,\u001b[49m\u001b[43m \u001b[49m\u001b[43mbase_field_names\u001b[49m\n\u001b[0;32m     94\u001b[0m \u001b[43m\u001b[49m\u001b[43m)\u001b[49m\n\u001b[0;32m     95\u001b[0m \u001b[38;5;28;01mif\u001b[39;00m private_attributes:\n\u001b[0;32m     96\u001b[0m     original_model_post_init \u001b[38;5;241m=\u001b[39m get_model_post_init(namespace, bases)\n",
      "File \u001b[1;32mc:\\Users\\taaaayaauaaaaaaaaaaa\\miniconda3\\envs\\myenv3_12\\Lib\\site-packages\\pydantic\\_internal\\_model_construction.py:372\u001b[0m, in \u001b[0;36minspect_namespace\u001b[1;34m(namespace, ignored_types, base_class_vars, base_class_fields)\u001b[0m\n\u001b[0;32m    368\u001b[0m             \u001b[38;5;28;01mraise\u001b[39;00m PydanticUserError(\n\u001b[0;32m    369\u001b[0m                 \u001b[38;5;124mf\u001b[39m\u001b[38;5;124m'\u001b[39m\u001b[38;5;124mField \u001b[39m\u001b[38;5;132;01m{\u001b[39;00mvar_name\u001b[38;5;132;01m!r}\u001b[39;00m\u001b[38;5;124m requires a type annotation\u001b[39m\u001b[38;5;124m'\u001b[39m, code\u001b[38;5;241m=\u001b[39m\u001b[38;5;124m'\u001b[39m\u001b[38;5;124mmodel-field-missing-annotation\u001b[39m\u001b[38;5;124m'\u001b[39m\n\u001b[0;32m    370\u001b[0m             )\n\u001b[0;32m    371\u001b[0m         \u001b[38;5;28;01melse\u001b[39;00m:\n\u001b[1;32m--> 372\u001b[0m             \u001b[38;5;28;01mraise\u001b[39;00m PydanticUserError(\n\u001b[0;32m    373\u001b[0m                 \u001b[38;5;124mf\u001b[39m\u001b[38;5;124m'\u001b[39m\u001b[38;5;124mA non-annotated attribute was detected: `\u001b[39m\u001b[38;5;132;01m{\u001b[39;00mvar_name\u001b[38;5;132;01m}\u001b[39;00m\u001b[38;5;124m = \u001b[39m\u001b[38;5;132;01m{\u001b[39;00mvalue\u001b[38;5;132;01m!r}\u001b[39;00m\u001b[38;5;124m`. All model fields require a \u001b[39m\u001b[38;5;124m'\u001b[39m\n\u001b[0;32m    374\u001b[0m                 \u001b[38;5;124mf\u001b[39m\u001b[38;5;124m'\u001b[39m\u001b[38;5;124mtype annotation; if `\u001b[39m\u001b[38;5;132;01m{\u001b[39;00mvar_name\u001b[38;5;132;01m}\u001b[39;00m\u001b[38;5;124m` is not meant to be a field, you may be able to resolve this \u001b[39m\u001b[38;5;124m'\u001b[39m\n\u001b[0;32m    375\u001b[0m                 \u001b[38;5;124mf\u001b[39m\u001b[38;5;124m\"\u001b[39m\u001b[38;5;124merror by annotating it as a `ClassVar` or updating `model_config[\u001b[39m\u001b[38;5;124m'\u001b[39m\u001b[38;5;124mignored_types\u001b[39m\u001b[38;5;124m'\u001b[39m\u001b[38;5;124m]`.\u001b[39m\u001b[38;5;124m\"\u001b[39m,\n\u001b[0;32m    376\u001b[0m                 code\u001b[38;5;241m=\u001b[39m\u001b[38;5;124m'\u001b[39m\u001b[38;5;124mmodel-field-missing-annotation\u001b[39m\u001b[38;5;124m'\u001b[39m,\n\u001b[0;32m    377\u001b[0m             )\n\u001b[0;32m    379\u001b[0m \u001b[38;5;28;01mfor\u001b[39;00m ann_name, ann_type \u001b[38;5;129;01min\u001b[39;00m raw_annotations\u001b[38;5;241m.\u001b[39mitems():\n\u001b[0;32m    380\u001b[0m     \u001b[38;5;28;01mif\u001b[39;00m (\n\u001b[0;32m    381\u001b[0m         is_valid_privateattr_name(ann_name)\n\u001b[0;32m    382\u001b[0m         \u001b[38;5;129;01mand\u001b[39;00m ann_name \u001b[38;5;129;01mnot\u001b[39;00m \u001b[38;5;129;01min\u001b[39;00m private_attributes\n\u001b[1;32m   (...)\u001b[0m\n\u001b[0;32m    386\u001b[0m         \u001b[38;5;129;01mand\u001b[39;00m \u001b[38;5;28mgetattr\u001b[39m(ann_type, \u001b[38;5;124m'\u001b[39m\u001b[38;5;124m__module__\u001b[39m\u001b[38;5;124m'\u001b[39m, \u001b[38;5;28;01mNone\u001b[39;00m) \u001b[38;5;241m!=\u001b[39m \u001b[38;5;124m'\u001b[39m\u001b[38;5;124mfunctools\u001b[39m\u001b[38;5;124m'\u001b[39m\n\u001b[0;32m    387\u001b[0m     ):\n",
      "\u001b[1;31mPydanticUserError\u001b[0m: A non-annotated attribute was detected: `external_data = {'id': 64, 'name': 'jhkhkj', 'signup_ts': '2020-01-02T03:04:05Z', 'tastes': {'chicken': 4}}`. All model fields require a type annotation; if `external_data` is not meant to be a field, you may be able to resolve this error by annotating it as a `ClassVar` or updating `model_config['ignored_types']`.\n\nFor further information visit https://errors.pydantic.dev/2.5/u/model-field-missing-annotation"
     ]
    }
   ],
   "source": [
    "from pydantic import ValidationError\n",
    "\n",
    "# class User(BaseModel):\n",
    "#     id: int\n",
    "#     name: str = \"Talha Bhai\",\n",
    "#     signup_ts : datetime | None\n",
    "#     tastes : dict[str,PositiveInt]\n",
    "\n",
    "class User(BaseModel):\n",
    "    id: int  \n",
    "    name: str = 'John Doe'  \n",
    "    signup_ts: datetime | None  \n",
    "    tastes: dict[str, PositiveInt]  \n",
    "\n",
    "\n",
    "    external_data = {\n",
    "        'id': 64, \n",
    "        'name': 'jhkhkj',\n",
    "        'signup_ts': '2020-01-02T03:04:05Z',\n",
    "        'tastes': {\n",
    "            'chicken': 4\n",
    "        }\n",
    "    }\n",
    "\n",
    "    try:\n",
    "        User(**external_data)\n",
    "    except ValidationError as e:\n",
    "        print(e.errors())\n",
    "\n"
   ]
  },
  {
   "cell_type": "code",
   "execution_count": 4,
   "metadata": {},
   "outputs": [
    {
     "name": "stdout",
     "output_type": "stream",
     "text": [
      "[{'type': 'missing', 'loc': ('signup_ts',), 'msg': 'Field required', 'input': {'id': 54, 'tastes': {}}, 'url': 'https://errors.pydantic.dev/2.5/v/missing'}]\n"
     ]
    }
   ],
   "source": [
    "# continuing the above example...\n",
    "\n",
    "from pydantic import ValidationError,BaseModel,PositiveInt\n",
    "from datetime import datetime\n",
    "\n",
    "\n",
    "class User(BaseModel):\n",
    "    id: int\n",
    "    name: str = 'John Doe'\n",
    "    signup_ts: datetime | None\n",
    "    tastes: dict[str, PositiveInt]\n",
    "\n",
    "\n",
    "# external_data = {'id': 'not an int', 'tastes': {}}  \n",
    "external_data = {'id': 54, 'tastes': {}}  \n",
    "\n",
    "try:\n",
    "    User(**external_data)  \n",
    "except ValidationError as e:\n",
    "    print(e.errors())\n",
    "    # \"\"\"\n",
    "    # [\n",
    "    #     {\n",
    "    #         'type': 'int_parsing',\n",
    "    #         'loc': ('id',),\n",
    "    #         'msg': 'Input should be a valid integer, unable to parse string as an integer',\n",
    "    #         'input': 'not an int',\n",
    "    #         'url': 'https://errors.pydantic.dev/2/v/int_parsing',\n",
    "    #     },\n",
    "    #     {\n",
    "    #         'type': 'missing',\n",
    "    #         'loc': ('signup_ts',),\n",
    "    #         'msg': 'Field required',\n",
    "    #         'input': {'id': 'not an int', 'tastes': {}},\n",
    "    #         'url': 'https://errors.pydantic.dev/2/v/missing',\n",
    "    #     },\n",
    "    # ]\n",
    "    # \"\"\"\n"
   ]
  },
  {
   "cell_type": "code",
   "execution_count": 11,
   "metadata": {},
   "outputs": [
    {
     "name": "stdout",
     "output_type": "stream",
     "text": [
      "Requirement already satisfied: pydantic[email] in c:\\users\\taaaayaauaaaaaaaaaaa\\miniconda3\\envs\\myenv3_12\\lib\\site-packages (2.5.3)\n",
      "Requirement already satisfied: annotated-types>=0.4.0 in c:\\users\\taaaayaauaaaaaaaaaaa\\miniconda3\\envs\\myenv3_12\\lib\\site-packages (from pydantic[email]) (0.6.0)\n",
      "Requirement already satisfied: pydantic-core==2.14.6 in c:\\users\\taaaayaauaaaaaaaaaaa\\miniconda3\\envs\\myenv3_12\\lib\\site-packages (from pydantic[email]) (2.14.6)\n",
      "Requirement already satisfied: typing-extensions>=4.6.1 in c:\\users\\taaaayaauaaaaaaaaaaa\\miniconda3\\envs\\myenv3_12\\lib\\site-packages (from pydantic[email]) (4.8.0)\n",
      "Collecting email-validator>=2.0.0 (from pydantic[email])\n",
      "  Obtaining dependency information for email-validator>=2.0.0 from https://files.pythonhosted.org/packages/09/68/d237a603d524ba052e292d71c89939bfa70e3ec7963b255cc3ef7a8770a0/email_validator-2.1.0.post1-py3-none-any.whl.metadata\n",
      "  Downloading email_validator-2.1.0.post1-py3-none-any.whl.metadata (25 kB)\n",
      "Collecting dnspython>=2.0.0 (from email-validator>=2.0.0->pydantic[email])\n",
      "  Obtaining dependency information for dnspython>=2.0.0 from https://files.pythonhosted.org/packages/f6/b4/0a9bee52c50f226a3cbfb54263d02bb421c7f2adc136520729c2c689c1e5/dnspython-2.4.2-py3-none-any.whl.metadata\n",
      "  Downloading dnspython-2.4.2-py3-none-any.whl.metadata (4.9 kB)\n",
      "Requirement already satisfied: idna>=2.0.0 in c:\\users\\taaaayaauaaaaaaaaaaa\\miniconda3\\envs\\myenv3_12\\lib\\site-packages (from email-validator>=2.0.0->pydantic[email]) (3.6)\n",
      "Downloading email_validator-2.1.0.post1-py3-none-any.whl (32 kB)\n",
      "Downloading dnspython-2.4.2-py3-none-any.whl (300 kB)\n",
      "   ---------------------------------------- 0.0/300.4 kB ? eta -:--:--\n",
      "   -------- ------------------------------- 61.4/300.4 kB 1.6 MB/s eta 0:00:01\n",
      "   --------------- ------------------------ 112.6/300.4 kB 1.3 MB/s eta 0:00:01\n",
      "   ----------------------- ---------------- 174.1/300.4 kB 1.3 MB/s eta 0:00:01\n",
      "   ------------------------------- -------- 235.5/300.4 kB 1.3 MB/s eta 0:00:01\n",
      "   -------------------------------------- - 286.7/300.4 kB 1.3 MB/s eta 0:00:01\n",
      "   ---------------------------------------- 300.4/300.4 kB 1.2 MB/s eta 0:00:00\n",
      "Installing collected packages: dnspython, email-validator\n",
      "Successfully installed dnspython-2.4.2 email-validator-2.1.0.post1\n",
      "Note: you may need to restart the kernel to use updated packages.\n"
     ]
    }
   ],
   "source": [
    "%pip install pydantic[email]"
   ]
  },
  {
   "cell_type": "markdown",
   "metadata": {},
   "source": [
    "### Custom Validation"
   ]
  },
  {
   "cell_type": "code",
   "execution_count": 27,
   "metadata": {},
   "outputs": [
    {
     "name": "stdout",
     "output_type": "stream",
     "text": [
      "cls checking <class '__main__.User'>\n",
      "Negative ID not acceptable\n"
     ]
    },
    {
     "data": {
      "text/plain": [
       "'{\"name\":\"fjdksl\",\"email\":\"talha@gmail.com\",\"account_id\":-53}'"
      ]
     },
     "execution_count": 27,
     "metadata": {},
     "output_type": "execute_result"
    }
   ],
   "source": [
    "from pydantic import BaseModel, EmailStr, field_validator\n",
    "\n",
    "class User(BaseModel):\n",
    "    name: str\n",
    "    email: EmailStr\n",
    "    account_id: int\n",
    "\n",
    "    @field_validator('account_id')\n",
    "    def validator_account_id(cls,value:int):\n",
    "        print('cls checking',cls)\n",
    "        if(value<0):\n",
    "            # raise ValueError('Negative ID not acceptable')\n",
    "            print('Negative ID not acceptable')\n",
    "        \n",
    "        return value\n",
    "\n",
    "user = User(name='fjdksl',email='talha@gmail.com',account_id=-53)\n",
    "\n",
    "user.model_dump_json()"
   ]
  },
  {
   "cell_type": "markdown",
   "metadata": {},
   "source": [
    "### Different Output Types"
   ]
  },
  {
   "cell_type": "code",
   "execution_count": 32,
   "metadata": {},
   "outputs": [
    {
     "name": "stdout",
     "output_type": "stream",
     "text": [
      "<class '__main__.User'>\n",
      "name='fjdksl' email='talha@gmail.com' account_id=65\n"
     ]
    }
   ],
   "source": [
    "from pydantic import BaseModel, EmailStr, field_validator\n",
    "\n",
    "class User(BaseModel):\n",
    "    name: str\n",
    "    email: EmailStr\n",
    "    account_id: int\n",
    "\n",
    "    @field_validator('account_id')\n",
    "    def validator_account_id(cls,value:int):\n",
    "        if(value<0):\n",
    "            # raise ValueError('Negative ID not acceptable')\n",
    "            print('Negative ID not acceptable')\n",
    "        \n",
    "        return value\n",
    "\n",
    "user = User(name='fjdksl',email='talha@gmail.com',account_id=65)\n",
    "\n",
    "print(type(user))\n",
    "print(user)"
   ]
  },
  {
   "cell_type": "markdown",
   "metadata": {},
   "source": [
    "#### In Dictionary"
   ]
  },
  {
   "cell_type": "code",
   "execution_count": 37,
   "metadata": {},
   "outputs": [
    {
     "name": "stdout",
     "output_type": "stream",
     "text": [
      "<class 'dict'>\n",
      "{'name': 'fjdksl', 'email': 'talha@gmail.com', 'account_id': 65}\n"
     ]
    }
   ],
   "source": [
    "user_dict : dict = user.model_dump()\n",
    "print(type(user_dict))\n",
    "print(user_dict)"
   ]
  },
  {
   "cell_type": "markdown",
   "metadata": {},
   "source": [
    "#### In JSON"
   ]
  },
  {
   "cell_type": "code",
   "execution_count": 38,
   "metadata": {},
   "outputs": [
    {
     "name": "stdout",
     "output_type": "stream",
     "text": [
      "<class 'str'>\n",
      "{\"name\":\"fjdksl\",\"email\":\"talha@gmail.com\",\"account_id\":65}\n"
     ]
    }
   ],
   "source": [
    "usr_json : str = user.model_dump_json()\n",
    "print(type(usr_json))\n",
    "print(usr_json)"
   ]
  },
  {
   "cell_type": "markdown",
   "metadata": {},
   "source": [
    "#### Convert Json into Object"
   ]
  },
  {
   "cell_type": "code",
   "execution_count": 42,
   "metadata": {},
   "outputs": [
    {
     "name": "stdout",
     "output_type": "stream",
     "text": [
      "<class '__main__.User'>\n",
      "name='fjdksl' email='talha@gmail.com' account_id=65\n",
      "fjdksl\n"
     ]
    }
   ],
   "source": [
    "user_obj : User = User.model_validate_json(usr_json)\n",
    "print(type(user_obj))\n",
    "print(user_obj)\n",
    "print(user_obj.name)"
   ]
  },
  {
   "cell_type": "code",
   "execution_count": 43,
   "metadata": {},
   "outputs": [
    {
     "name": "stdout",
     "output_type": "stream",
     "text": [
      "id=123 name='John Doe' signup_ts=datetime.datetime(2017, 6, 1, 12, 22) friends=[1, 2, 3]\n",
      "123\n"
     ]
    }
   ],
   "source": [
    "from datetime import datetime\n",
    "from typing import Optional\n",
    "\n",
    "class User(BaseModel):\n",
    "    id: int\n",
    "    name: str = 'John Doe'\n",
    "    signup_ts: Optional[datetime] = None\n",
    "    friends: list[int] = []\n",
    "\n",
    "external_data: dict = {'id': '123', 'signup_ts': '2017-06-01 12:22', 'friends': [1, '2', b'3']}\n",
    "user: User = User(**external_data)\n",
    "print(user)\n",
    "print(user.id)"
   ]
  },
  {
   "cell_type": "markdown",
   "metadata": {},
   "source": [
    "## Validators"
   ]
  },
  {
   "cell_type": "code",
   "execution_count": 16,
   "metadata": {},
   "outputs": [
    {
     "name": "stdout",
     "output_type": "stream",
     "text": [
      "number=[4, 16]\n",
      "1 validation error for DemoModel\n",
      "number.1\n",
      "  Assertion failed, 8 is not a square number [type=assertion_error, input_value=4, input_type=int]\n",
      "    For further information visit https://errors.pydantic.dev/2.5/v/assertion_error\n"
     ]
    }
   ],
   "source": [
    "from typing import Any, List\n",
    "\n",
    "from typing_extensions import Annotated\n",
    "\n",
    "from pydantic import BaseModel, ValidationError\n",
    "from pydantic.functional_validators import AfterValidator\n",
    "\n",
    "\n",
    "def check_squares(v: int) -> int:\n",
    "    assert v**0.5 % 1 == 0, f'{v} is not a square number'\n",
    "    return v\n",
    "\n",
    "\n",
    "def double(v: Any) -> Any:\n",
    "    return v * 2\n",
    "\n",
    "\n",
    "MyNumber = Annotated[int, AfterValidator(double), AfterValidator(check_squares)]\n",
    "\n",
    "\n",
    "class DemoModel(BaseModel):\n",
    "    number: List[MyNumber]\n",
    "\n",
    "\n",
    "print(DemoModel(number=[2, 8]))\n",
    "#> number=[4, 16]\n",
    "try:\n",
    "    DemoModel(number=[2, 4])\n",
    "except ValidationError as e:\n",
    "    print(e)\n",
    "    \"\"\"\n",
    "    1 validation error for DemoModel\n",
    "    number.1\n",
    "      Assertion failed, 8 is not a square number\n",
    "    assert ((8 ** 0.5) % 1) == 0 [type=assertion_error, input_value=4, input_type=int]\n",
    "    \"\"\""
   ]
  },
  {
   "cell_type": "code",
   "execution_count": 17,
   "metadata": {},
   "outputs": [
    {
     "ename": "ValidationError",
     "evalue": "1 validation error for Blog\ntitle\n  String should have at least 5 characters [type=string_too_short, input_value='hi', input_type=str]\n    For further information visit https://errors.pydantic.dev/2.5/v/string_too_short",
     "output_type": "error",
     "traceback": [
      "\u001b[1;31m---------------------------------------------------------------------------\u001b[0m",
      "\u001b[1;31mValidationError\u001b[0m                           Traceback (most recent call last)",
      "Cell \u001b[1;32mIn[17], line 7\u001b[0m\n\u001b[0;32m      4\u001b[0m     title: \u001b[38;5;28mstr\u001b[39m \u001b[38;5;241m=\u001b[39m Field(\u001b[38;5;241m.\u001b[39m\u001b[38;5;241m.\u001b[39m\u001b[38;5;241m.\u001b[39m,min_length\u001b[38;5;241m=\u001b[39m\u001b[38;5;241m5\u001b[39m)\n\u001b[0;32m      5\u001b[0m     is_active: \u001b[38;5;28mbool\u001b[39m\n\u001b[1;32m----> 7\u001b[0m \u001b[43mBlog\u001b[49m\u001b[43m(\u001b[49m\u001b[43mtitle\u001b[49m\u001b[38;5;241;43m=\u001b[39;49m\u001b[38;5;124;43m\"\u001b[39;49m\u001b[38;5;124;43mhi\u001b[39;49m\u001b[38;5;124;43m\"\u001b[39;49m\u001b[43m,\u001b[49m\u001b[43mis_active\u001b[49m\u001b[38;5;241;43m=\u001b[39;49m\u001b[38;5;28;43;01mFalse\u001b[39;49;00m\u001b[43m)\u001b[49m\n",
      "File \u001b[1;32mc:\\Users\\taaaayaauaaaaaaaaaaa\\miniconda3\\envs\\myenv3_12\\Lib\\site-packages\\pydantic\\main.py:164\u001b[0m, in \u001b[0;36mBaseModel.__init__\u001b[1;34m(__pydantic_self__, **data)\u001b[0m\n\u001b[0;32m    162\u001b[0m \u001b[38;5;66;03m# `__tracebackhide__` tells pytest and some other tools to omit this function from tracebacks\u001b[39;00m\n\u001b[0;32m    163\u001b[0m __tracebackhide__ \u001b[38;5;241m=\u001b[39m \u001b[38;5;28;01mTrue\u001b[39;00m\n\u001b[1;32m--> 164\u001b[0m \u001b[43m__pydantic_self__\u001b[49m\u001b[38;5;241;43m.\u001b[39;49m\u001b[43m__pydantic_validator__\u001b[49m\u001b[38;5;241;43m.\u001b[39;49m\u001b[43mvalidate_python\u001b[49m\u001b[43m(\u001b[49m\u001b[43mdata\u001b[49m\u001b[43m,\u001b[49m\u001b[43m \u001b[49m\u001b[43mself_instance\u001b[49m\u001b[38;5;241;43m=\u001b[39;49m\u001b[43m__pydantic_self__\u001b[49m\u001b[43m)\u001b[49m\n",
      "\u001b[1;31mValidationError\u001b[0m: 1 validation error for Blog\ntitle\n  String should have at least 5 characters [type=string_too_short, input_value='hi', input_type=str]\n    For further information visit https://errors.pydantic.dev/2.5/v/string_too_short"
     ]
    }
   ],
   "source": [
    "from pydantic import BaseModel, Field\n",
    "\n",
    "class Blog(BaseModel):\n",
    "    title: str = Field(...,min_length=5)\n",
    "    is_active: bool\n",
    "\n",
    "Blog(title=\"hi\",is_active=False)"
   ]
  },
  {
   "cell_type": "code",
   "execution_count": 18,
   "metadata": {},
   "outputs": [
    {
     "data": {
      "text/plain": [
       "Blog(title='hi, world', is_active=False)"
      ]
     },
     "execution_count": 18,
     "metadata": {},
     "output_type": "execute_result"
    }
   ],
   "source": [
    "from pydantic import BaseModel, Field\n",
    "\n",
    "class Blog(BaseModel):\n",
    "    title: str = Field(...,min_length=5)\n",
    "    is_active: bool\n",
    "\n",
    "Blog(title=\"hi, world\",is_active=False)"
   ]
  }
 ],
 "metadata": {
  "kernelspec": {
   "display_name": "myenv3_12",
   "language": "python",
   "name": "python3"
  },
  "language_info": {
   "codemirror_mode": {
    "name": "ipython",
    "version": 3
   },
   "file_extension": ".py",
   "mimetype": "text/x-python",
   "name": "python",
   "nbconvert_exporter": "python",
   "pygments_lexer": "ipython3",
   "version": "3.12.0"
  }
 },
 "nbformat": 4,
 "nbformat_minor": 2
}
