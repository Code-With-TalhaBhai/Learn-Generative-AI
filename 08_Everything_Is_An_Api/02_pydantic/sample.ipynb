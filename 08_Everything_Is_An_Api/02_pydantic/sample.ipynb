{
 "cells": [
  {
   "cell_type": "code",
   "execution_count": null,
   "metadata": {},
   "outputs": [],
   "source": [
    "external_data = {\n",
    "    'id': 53,\n",
    "    'signup_ts': '2020-01-02T03:04:05Z',\n",
    "    'tastes': {\n",
    "        'chicken': 45\n",
    "    }\n",
    "}\n",
    "\n",
    "def func(id,signup_ts,tastes):\n",
    "    print(id)\n",
    "    print(signup_ts)\n",
    "    print(tastes)\n",
    "\n",
    "\n",
    "# printing multiple variables giving dictionary\n",
    "func(**external_data)\n",
    "\n",
    "\n",
    "# def func(**kwargs):\n",
    "#     print(kwargs)\n",
    "\n",
    "\n",
    "## printing Dictionary giving unlimited arguments\n",
    "# func(key='fjdskl',value='fjdkls')"
   ]
  },
  {
   "cell_type": "code",
   "execution_count": null,
   "metadata": {},
   "outputs": [],
   "source": [
    "\n",
    "\n",
    "def decorator(inner_func):\n",
    "    print('Before Decorator')\n",
    "    inner_func(54)\n",
    "\n",
    "\n",
    "@decorator\n",
    "def inner_func(age):\n",
    "    print(f'My age is {age}')"
   ]
  },
  {
   "cell_type": "code",
   "execution_count": 3,
   "metadata": {},
   "outputs": [
    {
     "name": "stdout",
     "output_type": "stream",
     "text": [
      "Before Decorator\n",
      "My age is 65\n"
     ]
    }
   ],
   "source": [
    "\n",
    "\n",
    "def decorator(arg):\n",
    "    def wrapper(func):\n",
    "        print('Before Decorator')\n",
    "        func(arg)\n",
    "    return wrapper\n",
    "\n",
    "\n",
    "@decorator(65)\n",
    "def inner_func(age):\n",
    "    print(f'My age is {age}')"
   ]
  },
  {
   "cell_type": "code",
   "execution_count": 2,
   "metadata": {},
   "outputs": [
    {
     "ename": "AssertionError",
     "evalue": "61 is not a square number",
     "output_type": "error",
     "traceback": [
      "\u001b[1;31m---------------------------------------------------------------------------\u001b[0m",
      "\u001b[1;31mAssertionError\u001b[0m                            Traceback (most recent call last)",
      "Cell \u001b[1;32mIn[2], line 6\u001b[0m\n\u001b[0;32m      2\u001b[0m     \u001b[38;5;28;01massert\u001b[39;00m v\u001b[38;5;241m*\u001b[39m\u001b[38;5;241m*\u001b[39m\u001b[38;5;241m0.5\u001b[39m \u001b[38;5;241m%\u001b[39m \u001b[38;5;241m1\u001b[39m \u001b[38;5;241m==\u001b[39m \u001b[38;5;241m0\u001b[39m, \u001b[38;5;124mf\u001b[39m\u001b[38;5;124m'\u001b[39m\u001b[38;5;132;01m{\u001b[39;00mv\u001b[38;5;132;01m}\u001b[39;00m\u001b[38;5;124m is not a square number\u001b[39m\u001b[38;5;124m'\u001b[39m\n\u001b[0;32m      3\u001b[0m     \u001b[38;5;28;01mreturn\u001b[39;00m v\n\u001b[1;32m----> 6\u001b[0m \u001b[43mcheck_squares\u001b[49m\u001b[43m(\u001b[49m\u001b[38;5;241;43m61\u001b[39;49m\u001b[43m)\u001b[49m\n",
      "Cell \u001b[1;32mIn[2], line 2\u001b[0m, in \u001b[0;36mcheck_squares\u001b[1;34m(v)\u001b[0m\n\u001b[0;32m      1\u001b[0m \u001b[38;5;28;01mdef\u001b[39;00m \u001b[38;5;21mcheck_squares\u001b[39m(v: \u001b[38;5;28mint\u001b[39m) \u001b[38;5;241m-\u001b[39m\u001b[38;5;241m>\u001b[39m \u001b[38;5;28mint\u001b[39m:\n\u001b[1;32m----> 2\u001b[0m     \u001b[38;5;28;01massert\u001b[39;00m v\u001b[38;5;241m*\u001b[39m\u001b[38;5;241m*\u001b[39m\u001b[38;5;241m0.5\u001b[39m \u001b[38;5;241m%\u001b[39m \u001b[38;5;241m1\u001b[39m \u001b[38;5;241m==\u001b[39m \u001b[38;5;241m0\u001b[39m, \u001b[38;5;124mf\u001b[39m\u001b[38;5;124m'\u001b[39m\u001b[38;5;132;01m{\u001b[39;00mv\u001b[38;5;132;01m}\u001b[39;00m\u001b[38;5;124m is not a square number\u001b[39m\u001b[38;5;124m'\u001b[39m\n\u001b[0;32m      3\u001b[0m     \u001b[38;5;28;01mreturn\u001b[39;00m v\n",
      "\u001b[1;31mAssertionError\u001b[0m: 61 is not a square number"
     ]
    }
   ],
   "source": [
    "def check_squares(v: int) -> int:\n",
    "    assert v**0.5 % 1 == 0, f'{v} is not a square number'\n",
    "    return v\n",
    "\n",
    "\n",
    "check_squares(61)"
   ]
  },
  {
   "cell_type": "code",
   "execution_count": null,
   "metadata": {},
   "outputs": [],
   "source": [
    "% pip install "
   ]
  },
  {
   "cell_type": "code",
   "execution_count": 5,
   "metadata": {},
   "outputs": [
    {
     "data": {
      "text/plain": [
       "11"
      ]
     },
     "execution_count": 5,
     "metadata": {},
     "output_type": "execute_result"
    }
   ],
   "source": [
    "from typing_extensions import Annotated\n",
    "\n",
    "# Annotated can be used to combine multiple types or include additional information\n",
    "x: Annotated[int, \"This is an integer\"] = 5\n",
    "\n",
    "y = x + 6\n",
    "\n",
    "# In this case, x is annotated as an integer with additional metadata\n",
    "y"
   ]
  },
  {
   "cell_type": "code",
   "execution_count": 1,
   "metadata": {},
   "outputs": [
    {
     "name": "stdout",
     "output_type": "stream",
     "text": [
      "AfterValidator(func=10)\n",
      "AfterValidator(func=36)\n",
      "10\n",
      "36\n"
     ]
    }
   ],
   "source": [
    "from typing import Any\n",
    "from pydantic.functional_validators import AfterValidator\n",
    "\n",
    "\n",
    "def double(v: Any) -> Any:\n",
    "    return v * 2\n",
    "\n",
    "def check_squares(v: int) -> int:\n",
    "    assert v**0.5 % 1 == 0, f'{v} is not a square number'\n",
    "    return v\n",
    "\n",
    "t = AfterValidator(double(5))\n",
    "f = AfterValidator(check_squares(36))\n",
    "\n",
    "print(t)\n",
    "print(f)\n",
    "\n",
    "print(t.func)\n",
    "print(f.func)"
   ]
  }
 ],
 "metadata": {
  "kernelspec": {
   "display_name": "myenv3_12",
   "language": "python",
   "name": "python3"
  },
  "language_info": {
   "codemirror_mode": {
    "name": "ipython",
    "version": 3
   },
   "file_extension": ".py",
   "mimetype": "text/x-python",
   "name": "python",
   "nbconvert_exporter": "python",
   "pygments_lexer": "ipython3",
   "version": "3.12.0"
  }
 },
 "nbformat": 4,
 "nbformat_minor": 2
}
