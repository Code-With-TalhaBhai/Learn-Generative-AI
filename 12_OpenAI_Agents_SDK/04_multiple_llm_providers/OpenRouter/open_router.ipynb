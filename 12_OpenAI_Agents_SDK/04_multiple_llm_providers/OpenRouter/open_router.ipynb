{
 "cells": [
  {
   "cell_type": "code",
   "execution_count": null,
   "id": "486c8d3e",
   "metadata": {},
   "outputs": [],
   "source": [
    "!pip install"
   ]
  },
  {
   "cell_type": "code",
   "execution_count": 1,
   "id": "e771f0ac",
   "metadata": {},
   "outputs": [],
   "source": [
    "import os\n",
    "from dotenv import load_dotenv\n",
    "load_dotenv()\n",
    "\n",
    "OPENROUTER_API_KEY = os.environ.get('ROUTER_API_KEY')"
   ]
  },
  {
   "cell_type": "markdown",
   "id": "cf40b814",
   "metadata": {},
   "source": [
    "##### Using the OpenRouter API directly"
   ]
  },
  {
   "cell_type": "code",
   "execution_count": 2,
   "id": "17615dd8",
   "metadata": {},
   "outputs": [],
   "source": [
    "BASE_URL='https://openrouter.ai/api/v1'\n",
    "MODEL='minimax/minimax-m2:free'"
   ]
  },
  {
   "cell_type": "code",
   "execution_count": 6,
   "id": "2b5b64d7",
   "metadata": {},
   "outputs": [
    {
     "name": "stdout",
     "output_type": "stream",
     "text": [
      "{'id': 'gen-1761539150-F3g6cpQLUcNtK6v6H0zw', 'provider': 'Minimax', 'model': 'minimax/minimax-m2:free', 'object': 'chat.completion', 'created': 1761539150, 'choices': [{'logprobs': None, 'finish_reason': 'stop', 'native_finish_reason': 'stop', 'index': 0, 'message': {'role': 'assistant', 'content': '<think>\\nI need to explain the difference between CRM (Customer Relationship Management) and ERP (Enterprise Resource Planning) systems. I’ll think about using markdown headings to organize the content clearly. I should focus on definitions, the people involved, data models, processes, core modules, integration, vendor ecosystems, and reporting functionalities. \\n\\nI can use examples like Salesforce for CRM and SAP for ERP, and I should also mention challenges like single data, master data governance, digital transformation, and the need for unified customer 360 views. Highlighting real-world implications is also important!\\n\\nI need to outline the differences between CRM and ERP systems, focusing on their core functions. CRM is primarily for sales, marketing, and customer service, while ERP manages internal processes like finance, supply chain, and HR. The data flow is different: CRM operates outside-in, whereas ERP functions inside-out.\\n\\nI can summarize with examples, like a company using Salesforce for CRM and SAP for ERP, highlighting how the data integrates but doesn\\'t merge completely. It\\'s essential to present this information clearly and professionally, using headings and bullet points for organization!\\n\\nCRM focuses on managing relationships with customers, while ERP manages internal resources. This includes data, users, workflows, systems, and integration aspects.\\n\\nFor CRM, it emphasizes external customer engagement and uses terms like leads, opportunities, and accounts. Key modules include sales, marketing automation, customer service, and more, often utilizing cloud-first deployment.\\n\\nERP, on the other hand, deals with internal processes and resources like finance and procurement, using modules such as finance and supply chain management. It\\'s important to note these distinct functionalities!\\n\\nERP systems typically handle data across multi-entity scenarios and emphasize strong governance and internal controls. They often follow a suite-like approach, with modules working tightly together in a single database.\\n\\nFor reporting, ERP integrates financial and operational results, while CRM may utilize dashboards and AI for forecasting sales. Decision-making differs too: CRM focuses on customer outcomes, whereas ERP optimizes costs and efficiency.\\n\\nAn analogy could be that CRM acts as the \"front office,\" while ERP functions as the \"back office.\" Many organizations rely on an integrated CRM to track leads and manage customer orders.\\n\\nCRM focuses on managing customer interactions and driving revenue, while ERP manages internal resources to ensure processes run smoothly.\\n\\n### How They Differ\\n\\n**Core Purpose**\\n- CRM centers on customer relationships and increasing revenue.\\n- ERP emphasizes resource management and operational efficiency.\\n\\n**Key Modules**\\n- CRM includes features for sales, marketing, and customer service.\\n- ERP incorporates functions like finance, supply chain, and HR.\\n\\n**User Personas**\\n- CRM is used by sales and customer service teams.\\n- ERP serves finance, supply chain, and operational managers.\\n\\n**Data and Process**\\n- CRM emphasizes customer-centric data and external engagement.\\n- ERP handles transactions and internal processes.\\n\\n### When to Use\\nConsider using CRM for lead generation and customer satisfaction and ERP for financial management and inventory control.\\n\\n### Integration\\nIntegrating CRM and ERP helps create a unified customer experience by syncing essential data like customer records and invoices.\\n</think>\\n\\n# CRM vs ERP\\n\\nCRM (Customer Relationship Management) and ERP (Enterprise Resource Planning) are both enterprise systems, but they optimize different sides of the business.\\n\\n- CRM focuses on customer relationships and revenue: capturing leads, managing opportunities, marketing campaigns, customer service, and customer lifetime value.\\n- ERP focuses on internal resources and operations: finance, accounting, procurement, inventory, manufacturing, supply chain, project/service delivery, and HR.\\n\\n### How They Differ\\n\\nCore purpose\\n- CRM: drive sales, marketing, and service outcomes.\\n- ERP: plan, control, and execute internal operations.\\n\\nKey modules and data\\n- CRM:\\n  - Sales (leads, opportunities, pipelines), marketing automation, service/ticketing, customer analytics.\\n  - Data: accounts, contacts, deals, service cases, interactions.\\n- ERP:\\n  - Finance/accounting (GL, AP, AR), supply chain, inventory, order management, production, procurement, project/service delivery, HR, payroll.\\n  - Data: products, BOMs, suppliers, transactions, orders, invoices, costs, capacity, time tracking.\\n\\nUsers and outcomes\\n- CRM users: sales reps, marketers, customer success, customer service.\\n- ERP users: finance, supply chain, operations, manufacturing, logistics, project managers, HR.\\n- Outcomes: CRM increases conversion and retention; ERP optimizes costs, compliance, and capacity.\\n\\nIntegration and technology\\n- Modern ERP is usually single-instance, multi-entity, with internal controls and auditability.\\n- Modern CRM is typically cloud-first, multi-tenant, and supports external engagement.\\n- Integration is critical: CRM feeds orders to ERP; ERP returns fulfillment, inventory, finance data back to CRM.\\n\\nExample flow\\n- A lead in CRM becomes an opportunity and quote; upon winning, an order is created and posted to ERP.\\n- ERP allocates inventory/schedule, invoices the customer, and updates CRM with status and fulfillment metrics.\\n\\n### When to Use\\n- Choose CRM to grow pipeline, convert more deals, and deliver better service.\\n- Choose ERP to standardize finance, streamline operations, control costs, and ensure compliance.\\n\\n### Summary\\nCRM is your front office for customers; ERP is your back office for resources. Most mature organizations integrate both so that customer-facing actions drive accurate, efficient internal execution.', 'refusal': None, 'reasoning': None}}], 'usage': {'prompt_tokens': 49, 'completion_tokens': 1076, 'total_tokens': 1125}}\n"
     ]
    }
   ],
   "source": [
    "import requests\n",
    "import json\n",
    "\n",
    "response = requests.post(\n",
    "    url = f'{BASE_URL}/chat/completions',\n",
    "    headers = {\n",
    "        'Authorization': f'Bearer {OPENROUTER_API_KEY}',\n",
    "        'Content-Type': 'application/json'\n",
    "    },\n",
    "    data = json.dumps({\n",
    "        \"model\": MODEL,\n",
    "        'messages': [\n",
    "            {\"role\": \"user\", \"content\": \"What is difference between CRM and ERP?\"}\n",
    "        ]\n",
    "    })\n",
    ")\n",
    "print(response.json())"
   ]
  },
  {
   "cell_type": "code",
   "execution_count": 7,
   "id": "9f4e9a8b",
   "metadata": {},
   "outputs": [
    {
     "name": "stdout",
     "output_type": "stream",
     "text": [
      "<think>\n",
      "I need to explain the difference between CRM (Customer Relationship Management) and ERP (Enterprise Resource Planning) systems. I’ll think about using markdown headings to organize the content clearly. I should focus on definitions, the people involved, data models, processes, core modules, integration, vendor ecosystems, and reporting functionalities. \n",
      "\n",
      "I can use examples like Salesforce for CRM and SAP for ERP, and I should also mention challenges like single data, master data governance, digital transformation, and the need for unified customer 360 views. Highlighting real-world implications is also important!\n",
      "\n",
      "I need to outline the differences between CRM and ERP systems, focusing on their core functions. CRM is primarily for sales, marketing, and customer service, while ERP manages internal processes like finance, supply chain, and HR. The data flow is different: CRM operates outside-in, whereas ERP functions inside-out.\n",
      "\n",
      "I can summarize with examples, like a company using Salesforce for CRM and SAP for ERP, highlighting how the data integrates but doesn't merge completely. It's essential to present this information clearly and professionally, using headings and bullet points for organization!\n",
      "\n",
      "CRM focuses on managing relationships with customers, while ERP manages internal resources. This includes data, users, workflows, systems, and integration aspects.\n",
      "\n",
      "For CRM, it emphasizes external customer engagement and uses terms like leads, opportunities, and accounts. Key modules include sales, marketing automation, customer service, and more, often utilizing cloud-first deployment.\n",
      "\n",
      "ERP, on the other hand, deals with internal processes and resources like finance and procurement, using modules such as finance and supply chain management. It's important to note these distinct functionalities!\n",
      "\n",
      "ERP systems typically handle data across multi-entity scenarios and emphasize strong governance and internal controls. They often follow a suite-like approach, with modules working tightly together in a single database.\n",
      "\n",
      "For reporting, ERP integrates financial and operational results, while CRM may utilize dashboards and AI for forecasting sales. Decision-making differs too: CRM focuses on customer outcomes, whereas ERP optimizes costs and efficiency.\n",
      "\n",
      "An analogy could be that CRM acts as the \"front office,\" while ERP functions as the \"back office.\" Many organizations rely on an integrated CRM to track leads and manage customer orders.\n",
      "\n",
      "CRM focuses on managing customer interactions and driving revenue, while ERP manages internal resources to ensure processes run smoothly.\n",
      "\n",
      "### How They Differ\n",
      "\n",
      "**Core Purpose**\n",
      "- CRM centers on customer relationships and increasing revenue.\n",
      "- ERP emphasizes resource management and operational efficiency.\n",
      "\n",
      "**Key Modules**\n",
      "- CRM includes features for sales, marketing, and customer service.\n",
      "- ERP incorporates functions like finance, supply chain, and HR.\n",
      "\n",
      "**User Personas**\n",
      "- CRM is used by sales and customer service teams.\n",
      "- ERP serves finance, supply chain, and operational managers.\n",
      "\n",
      "**Data and Process**\n",
      "- CRM emphasizes customer-centric data and external engagement.\n",
      "- ERP handles transactions and internal processes.\n",
      "\n",
      "### When to Use\n",
      "Consider using CRM for lead generation and customer satisfaction and ERP for financial management and inventory control.\n",
      "\n",
      "### Integration\n",
      "Integrating CRM and ERP helps create a unified customer experience by syncing essential data like customer records and invoices.\n",
      "</think>\n",
      "\n",
      "# CRM vs ERP\n",
      "\n",
      "CRM (Customer Relationship Management) and ERP (Enterprise Resource Planning) are both enterprise systems, but they optimize different sides of the business.\n",
      "\n",
      "- CRM focuses on customer relationships and revenue: capturing leads, managing opportunities, marketing campaigns, customer service, and customer lifetime value.\n",
      "- ERP focuses on internal resources and operations: finance, accounting, procurement, inventory, manufacturing, supply chain, project/service delivery, and HR.\n",
      "\n",
      "### How They Differ\n",
      "\n",
      "Core purpose\n",
      "- CRM: drive sales, marketing, and service outcomes.\n",
      "- ERP: plan, control, and execute internal operations.\n",
      "\n",
      "Key modules and data\n",
      "- CRM:\n",
      "  - Sales (leads, opportunities, pipelines), marketing automation, service/ticketing, customer analytics.\n",
      "  - Data: accounts, contacts, deals, service cases, interactions.\n",
      "- ERP:\n",
      "  - Finance/accounting (GL, AP, AR), supply chain, inventory, order management, production, procurement, project/service delivery, HR, payroll.\n",
      "  - Data: products, BOMs, suppliers, transactions, orders, invoices, costs, capacity, time tracking.\n",
      "\n",
      "Users and outcomes\n",
      "- CRM users: sales reps, marketers, customer success, customer service.\n",
      "- ERP users: finance, supply chain, operations, manufacturing, logistics, project managers, HR.\n",
      "- Outcomes: CRM increases conversion and retention; ERP optimizes costs, compliance, and capacity.\n",
      "\n",
      "Integration and technology\n",
      "- Modern ERP is usually single-instance, multi-entity, with internal controls and auditability.\n",
      "- Modern CRM is typically cloud-first, multi-tenant, and supports external engagement.\n",
      "- Integration is critical: CRM feeds orders to ERP; ERP returns fulfillment, inventory, finance data back to CRM.\n",
      "\n",
      "Example flow\n",
      "- A lead in CRM becomes an opportunity and quote; upon winning, an order is created and posted to ERP.\n",
      "- ERP allocates inventory/schedule, invoices the customer, and updates CRM with status and fulfillment metrics.\n",
      "\n",
      "### When to Use\n",
      "- Choose CRM to grow pipeline, convert more deals, and deliver better service.\n",
      "- Choose ERP to standardize finance, streamline operations, control costs, and ensure compliance.\n",
      "\n",
      "### Summary\n",
      "CRM is your front office for customers; ERP is your back office for resources. Most mature organizations integrate both so that customer-facing actions drive accurate, efficient internal execution.\n"
     ]
    }
   ],
   "source": [
    "print(response.json()['choices'][0]['message']['content'])"
   ]
  },
  {
   "cell_type": "markdown",
   "id": "f27fe1f9",
   "metadata": {},
   "source": [
    "#### Through Open-AI SDK"
   ]
  },
  {
   "cell_type": "code",
   "execution_count": 3,
   "id": "277981d1",
   "metadata": {},
   "outputs": [
    {
     "name": "stdout",
     "output_type": "stream",
     "text": [
      "Requirement already satisfied: openai in c:\\users\\taaaayaauaaaaaaaaaaa\\miniconda3\\lib\\site-packages (1.107.2)\n",
      "Requirement already satisfied: anyio<5,>=3.5.0 in c:\\users\\taaaayaauaaaaaaaaaaa\\miniconda3\\lib\\site-packages (from openai) (4.10.0)\n",
      "Requirement already satisfied: distro<2,>=1.7.0 in c:\\users\\taaaayaauaaaaaaaaaaa\\miniconda3\\lib\\site-packages (from openai) (1.9.0)\n",
      "Requirement already satisfied: httpx<1,>=0.23.0 in c:\\users\\taaaayaauaaaaaaaaaaa\\miniconda3\\lib\\site-packages (from openai) (0.28.1)\n",
      "Requirement already satisfied: jiter<1,>=0.4.0 in c:\\users\\taaaayaauaaaaaaaaaaa\\miniconda3\\lib\\site-packages (from openai) (0.10.0)\n",
      "Requirement already satisfied: pydantic<3,>=1.9.0 in c:\\users\\taaaayaauaaaaaaaaaaa\\miniconda3\\lib\\site-packages (from openai) (2.11.9)\n",
      "Requirement already satisfied: sniffio in c:\\users\\taaaayaauaaaaaaaaaaa\\miniconda3\\lib\\site-packages (from openai) (1.3.0)\n",
      "Requirement already satisfied: tqdm>4 in c:\\users\\taaaayaauaaaaaaaaaaa\\miniconda3\\lib\\site-packages (from openai) (4.65.0)\n",
      "Requirement already satisfied: typing-extensions<5,>=4.11 in c:\\users\\taaaayaauaaaaaaaaaaa\\miniconda3\\lib\\site-packages (from openai) (4.15.0)\n",
      "Requirement already satisfied: idna>=2.8 in c:\\users\\taaaayaauaaaaaaaaaaa\\miniconda3\\lib\\site-packages (from anyio<5,>=3.5.0->openai) (3.4)\n",
      "Requirement already satisfied: certifi in c:\\users\\taaaayaauaaaaaaaaaaa\\miniconda3\\lib\\site-packages (from httpx<1,>=0.23.0->openai) (2024.2.2)\n",
      "Requirement already satisfied: httpcore==1.* in c:\\users\\taaaayaauaaaaaaaaaaa\\miniconda3\\lib\\site-packages (from httpx<1,>=0.23.0->openai) (1.0.2)\n",
      "Requirement already satisfied: h11<0.15,>=0.13 in c:\\users\\taaaayaauaaaaaaaaaaa\\miniconda3\\lib\\site-packages (from httpcore==1.*->httpx<1,>=0.23.0->openai) (0.14.0)\n",
      "Requirement already satisfied: annotated-types>=0.6.0 in c:\\users\\taaaayaauaaaaaaaaaaa\\miniconda3\\lib\\site-packages (from pydantic<3,>=1.9.0->openai) (0.6.0)\n",
      "Requirement already satisfied: pydantic-core==2.33.2 in c:\\users\\taaaayaauaaaaaaaaaaa\\miniconda3\\lib\\site-packages (from pydantic<3,>=1.9.0->openai) (2.33.2)\n",
      "Requirement already satisfied: typing-inspection>=0.4.0 in c:\\users\\taaaayaauaaaaaaaaaaa\\miniconda3\\lib\\site-packages (from pydantic<3,>=1.9.0->openai) (0.4.1)\n",
      "Requirement already satisfied: colorama in c:\\users\\taaaayaauaaaaaaaaaaa\\miniconda3\\lib\\site-packages (from tqdm>4->openai) (0.4.6)\n"
     ]
    }
   ],
   "source": [
    "!pip install openai"
   ]
  },
  {
   "cell_type": "code",
   "execution_count": 13,
   "id": "51a420d3",
   "metadata": {},
   "outputs": [
    {
     "name": "stdout",
     "output_type": "stream",
     "text": [
      "**CRM (Customer Relationship Management)**\n",
      "- **Purpose:** Manages a company’s interactions with existing and potential customers.\n",
      "- **Focus:** Sales, marketing, service, and support activities that touch the external market.\n",
      "- **Key Features:** Lead tracking, contact management, opportunity pipelines, campaign management, customer service tickets.\n",
      "- **Goal:** Build stronger relationships, increase sales, improve customer satisfaction, and nurture brand loyalty.\n",
      "\n",
      "**ERP (Enterprise Resource Planning)**\n",
      "- **Purpose:** Integrates and automates core internal business processes across the whole organization.\n",
      "- **Focus:** Back‑office operations such as finance, accounting, human resources, manufacturing, inventory, procurement, and supply‑chain.\n",
      "- **Key Features:** General ledger, accounts payable/receivable, payroll, inventory control, production planning, procurement, project accounting.\n",
      "- **Goal:** Provide a single source of truth for data, streamline workflows, reduce redundancy, and improve operational efficiency.\n",
      "\n",
      "**In a nutshell:**  \n",
      "- **CRM** is outward‑facing—handling everything to do with customers and the sales funnel.  \n",
      "- **ERP** is inward‑facing—managing the company’s resources, finances, and production processes.  \n",
      "\n",
      "Together, they complement each other: CRM captures and nurtures leads, while ERP ensures those leads become fulfilled orders, tracked financially, and resourced properly.\n"
     ]
    }
   ],
   "source": [
    "from openai import OpenAI\n",
    "\n",
    "\n",
    "client  = OpenAI(\n",
    "    base_url=BASE_URL,\n",
    "    api_key=OPENROUTER_API_KEY\n",
    ")\n",
    "\n",
    "\n",
    "completions = client.chat.completions.create(\n",
    "    model=MODEL,\n",
    "    messages=[\n",
    "        {\"role\": \"user\", \"content\": \"What is difference between CRM and ERP? Explain shortly?\"}\n",
    "    ]\n",
    ")\n",
    "\n",
    "\n",
    "print(completions.choices[0].message.content)"
   ]
  },
  {
   "cell_type": "markdown",
   "id": "d0046e14",
   "metadata": {},
   "source": [
    "#### Through OpenAI SDK using Agents"
   ]
  },
  {
   "cell_type": "code",
   "execution_count": 4,
   "id": "57f72ef4",
   "metadata": {},
   "outputs": [
    {
     "name": "stdout",
     "output_type": "stream",
     "text": [
      "Requirement already satisfied: openai-agents in c:\\users\\taaaayaauaaaaaaaaaaa\\miniconda3\\lib\\site-packages (0.3.0)\n",
      "Requirement already satisfied: griffe<2,>=1.5.6 in c:\\users\\taaaayaauaaaaaaaaaaa\\miniconda3\\lib\\site-packages (from openai-agents) (1.14.0)\n",
      "Requirement already satisfied: mcp<2,>=1.11.0 in c:\\users\\taaaayaauaaaaaaaaaaa\\miniconda3\\lib\\site-packages (from openai-agents) (1.14.0)\n",
      "Requirement already satisfied: openai<2,>=1.107.1 in c:\\users\\taaaayaauaaaaaaaaaaa\\miniconda3\\lib\\site-packages (from openai-agents) (1.107.2)\n",
      "Requirement already satisfied: pydantic<3,>=2.10 in c:\\users\\taaaayaauaaaaaaaaaaa\\miniconda3\\lib\\site-packages (from openai-agents) (2.11.9)\n",
      "Requirement already satisfied: requests<3,>=2.0 in c:\\users\\taaaayaauaaaaaaaaaaa\\miniconda3\\lib\\site-packages (from openai-agents) (2.29.0)\n",
      "Requirement already satisfied: types-requests<3,>=2.0 in c:\\users\\taaaayaauaaaaaaaaaaa\\miniconda3\\lib\\site-packages (from openai-agents) (2.31.0.6)\n",
      "Requirement already satisfied: typing-extensions<5,>=4.12.2 in c:\\users\\taaaayaauaaaaaaaaaaa\\miniconda3\\lib\\site-packages (from openai-agents) (4.15.0)\n",
      "Requirement already satisfied: colorama>=0.4 in c:\\users\\taaaayaauaaaaaaaaaaa\\miniconda3\\lib\\site-packages (from griffe<2,>=1.5.6->openai-agents) (0.4.6)\n",
      "Requirement already satisfied: anyio>=4.5 in c:\\users\\taaaayaauaaaaaaaaaaa\\miniconda3\\lib\\site-packages (from mcp<2,>=1.11.0->openai-agents) (4.10.0)\n",
      "Requirement already satisfied: httpx-sse>=0.4 in c:\\users\\taaaayaauaaaaaaaaaaa\\miniconda3\\lib\\site-packages (from mcp<2,>=1.11.0->openai-agents) (0.4.1)\n",
      "Requirement already satisfied: httpx>=0.27.1 in c:\\users\\taaaayaauaaaaaaaaaaa\\miniconda3\\lib\\site-packages (from mcp<2,>=1.11.0->openai-agents) (0.28.1)\n",
      "Requirement already satisfied: jsonschema>=4.20.0 in c:\\users\\taaaayaauaaaaaaaaaaa\\miniconda3\\lib\\site-packages (from mcp<2,>=1.11.0->openai-agents) (4.21.1)\n",
      "Requirement already satisfied: pydantic-settings>=2.5.2 in c:\\users\\taaaayaauaaaaaaaaaaa\\miniconda3\\lib\\site-packages (from mcp<2,>=1.11.0->openai-agents) (2.10.1)\n",
      "Requirement already satisfied: python-multipart>=0.0.9 in c:\\users\\taaaayaauaaaaaaaaaaa\\miniconda3\\lib\\site-packages (from mcp<2,>=1.11.0->openai-agents) (0.0.20)\n",
      "Requirement already satisfied: pywin32>=310 in c:\\users\\taaaayaauaaaaaaaaaaa\\miniconda3\\lib\\site-packages (from mcp<2,>=1.11.0->openai-agents) (311)\n",
      "Requirement already satisfied: sse-starlette>=1.6.1 in c:\\users\\taaaayaauaaaaaaaaaaa\\miniconda3\\lib\\site-packages (from mcp<2,>=1.11.0->openai-agents) (3.0.2)\n",
      "Requirement already satisfied: starlette>=0.27 in c:\\users\\taaaayaauaaaaaaaaaaa\\miniconda3\\lib\\site-packages (from mcp<2,>=1.11.0->openai-agents) (0.48.0)\n",
      "Requirement already satisfied: uvicorn>=0.31.1 in c:\\users\\taaaayaauaaaaaaaaaaa\\miniconda3\\lib\\site-packages (from mcp<2,>=1.11.0->openai-agents) (0.35.0)\n",
      "Requirement already satisfied: distro<2,>=1.7.0 in c:\\users\\taaaayaauaaaaaaaaaaa\\miniconda3\\lib\\site-packages (from openai<2,>=1.107.1->openai-agents) (1.9.0)\n",
      "Requirement already satisfied: jiter<1,>=0.4.0 in c:\\users\\taaaayaauaaaaaaaaaaa\\miniconda3\\lib\\site-packages (from openai<2,>=1.107.1->openai-agents) (0.10.0)\n",
      "Requirement already satisfied: sniffio in c:\\users\\taaaayaauaaaaaaaaaaa\\miniconda3\\lib\\site-packages (from openai<2,>=1.107.1->openai-agents) (1.3.0)\n",
      "Requirement already satisfied: tqdm>4 in c:\\users\\taaaayaauaaaaaaaaaaa\\miniconda3\\lib\\site-packages (from openai<2,>=1.107.1->openai-agents) (4.65.0)\n",
      "Requirement already satisfied: annotated-types>=0.6.0 in c:\\users\\taaaayaauaaaaaaaaaaa\\miniconda3\\lib\\site-packages (from pydantic<3,>=2.10->openai-agents) (0.6.0)\n",
      "Requirement already satisfied: pydantic-core==2.33.2 in c:\\users\\taaaayaauaaaaaaaaaaa\\miniconda3\\lib\\site-packages (from pydantic<3,>=2.10->openai-agents) (2.33.2)\n",
      "Requirement already satisfied: typing-inspection>=0.4.0 in c:\\users\\taaaayaauaaaaaaaaaaa\\miniconda3\\lib\\site-packages (from pydantic<3,>=2.10->openai-agents) (0.4.1)\n",
      "Requirement already satisfied: charset-normalizer<4,>=2 in c:\\users\\taaaayaauaaaaaaaaaaa\\miniconda3\\lib\\site-packages (from requests<3,>=2.0->openai-agents) (2.0.4)\n",
      "Requirement already satisfied: idna<4,>=2.5 in c:\\users\\taaaayaauaaaaaaaaaaa\\miniconda3\\lib\\site-packages (from requests<3,>=2.0->openai-agents) (3.4)\n",
      "Requirement already satisfied: urllib3<1.27,>=1.21.1 in c:\\users\\taaaayaauaaaaaaaaaaa\\miniconda3\\lib\\site-packages (from requests<3,>=2.0->openai-agents) (1.26.16)\n",
      "Requirement already satisfied: certifi>=2017.4.17 in c:\\users\\taaaayaauaaaaaaaaaaa\\miniconda3\\lib\\site-packages (from requests<3,>=2.0->openai-agents) (2024.2.2)\n",
      "Requirement already satisfied: types-urllib3 in c:\\users\\taaaayaauaaaaaaaaaaa\\miniconda3\\lib\\site-packages (from types-requests<3,>=2.0->openai-agents) (1.26.25.14)\n",
      "Requirement already satisfied: httpcore==1.* in c:\\users\\taaaayaauaaaaaaaaaaa\\miniconda3\\lib\\site-packages (from httpx>=0.27.1->mcp<2,>=1.11.0->openai-agents) (1.0.2)\n",
      "Requirement already satisfied: h11<0.15,>=0.13 in c:\\users\\taaaayaauaaaaaaaaaaa\\miniconda3\\lib\\site-packages (from httpcore==1.*->httpx>=0.27.1->mcp<2,>=1.11.0->openai-agents) (0.14.0)\n",
      "Requirement already satisfied: attrs>=22.2.0 in c:\\users\\taaaayaauaaaaaaaaaaa\\miniconda3\\lib\\site-packages (from jsonschema>=4.20.0->mcp<2,>=1.11.0->openai-agents) (23.2.0)\n",
      "Requirement already satisfied: jsonschema-specifications>=2023.03.6 in c:\\users\\taaaayaauaaaaaaaaaaa\\miniconda3\\lib\\site-packages (from jsonschema>=4.20.0->mcp<2,>=1.11.0->openai-agents) (2023.12.1)\n",
      "Requirement already satisfied: referencing>=0.28.4 in c:\\users\\taaaayaauaaaaaaaaaaa\\miniconda3\\lib\\site-packages (from jsonschema>=4.20.0->mcp<2,>=1.11.0->openai-agents) (0.33.0)\n",
      "Requirement already satisfied: rpds-py>=0.7.1 in c:\\users\\taaaayaauaaaaaaaaaaa\\miniconda3\\lib\\site-packages (from jsonschema>=4.20.0->mcp<2,>=1.11.0->openai-agents) (0.18.0)\n",
      "Requirement already satisfied: python-dotenv>=0.21.0 in c:\\users\\taaaayaauaaaaaaaaaaa\\miniconda3\\lib\\site-packages (from pydantic-settings>=2.5.2->mcp<2,>=1.11.0->openai-agents) (1.0.1)\n",
      "Requirement already satisfied: click>=7.0 in c:\\users\\taaaayaauaaaaaaaaaaa\\miniconda3\\lib\\site-packages (from uvicorn>=0.31.1->mcp<2,>=1.11.0->openai-agents) (8.1.7)\n"
     ]
    }
   ],
   "source": [
    "!pip install openai-agents"
   ]
  },
  {
   "cell_type": "code",
   "execution_count": null,
   "id": "5397ee73",
   "metadata": {},
   "outputs": [
    {
     "name": "stdout",
     "output_type": "stream",
     "text": [
      "RunResult:\n",
      "- Last agent: Agent(name=\"Assistant\", ...)\n",
      "- Final output (str):\n",
      "    Here's a concise difference between **CRM** and **ERP**:\n",
      "    \n",
      "    1.  **Core Purpose:**\n",
      "        *   **CRM (Customer Relationship Management):** Manages **customer interactions** and relationships.\n",
      "        *   **ERP (Enterprise Resource Planning):** Manages and integrates a company's **core business processes** and resources.\n",
      "    \n",
      "    2.  **Primary Focus:**\n",
      "        *   **CRM:** **Sales, Marketing, Customer Service & Support.**\n",
      "        *   **ERP:** **Finance, HR, Manufacturing, Supply Chain, Inventory, Procurement.**\n",
      "    \n",
      "    3.  **Key Users:**\n",
      "        *   **CRM:** Sales Teams, Marketing Teams, Customer Service Representatives.\n",
      "        *   **ERP:** Finance, Accounting, Operations, Manufacturing, HR, Supply Chain Management, IT (for integration).\n",
      "    \n",
      "    4.  **Core Goal:**\n",
      "        *   **CRM:** Improve customer acquisition, retention, satisfaction, and loyalty to drive revenue growth.\n",
      "        *   **ERP:** Improve efficiency, productivity, cost control, and data visibility across internal operations for overall business performance.\n",
      "    \n",
      "    5.  **Scope:**\n",
      "        *   **CRM:** Focuses on interactions with **external entities** (customers, leads, prospects).\n",
      "        *   **ERP:** Focuses on managing **internal resources and processes** (people, money, materials, equipment).\n",
      "    \n",
      "    **In Simple Terms:**\n",
      "    \n",
      "    *   **Think of CRM as the \"Customer Front Office\"**: Managing how you attract and serve customers.\n",
      "    *   **Think of ERP as the \"Company Back Office\"**: Managing how you run your business internally.\n",
      "    \n",
      "    CRM helps you *get and keep* customers. ERP helps you *run* your company efficiently to *serve* those customers.\n",
      "- 1 new item(s)\n",
      "- 1 raw response(s)\n",
      "- 0 input guardrail result(s)\n",
      "- 0 output guardrail result(s)\n",
      "(See `RunResult` for more details)\n"
     ]
    }
   ],
   "source": [
    "import asyncio\n",
    "from openai import AsyncOpenAI\n",
    "from agents import Agent, Runner, set_tracing_disabled,OpenAIChatCompletionsModel\n",
    "\n",
    "\n",
    "client = AsyncOpenAI(\n",
    "    base_url=BASE_URL,\n",
    "    api_key=OPENROUTER_API_KEY\n",
    ")\n",
    "\n",
    "set_tracing_disabled(disabled=True)\n",
    "\n",
    "\n",
    "async def main():\n",
    "    agent = Agent(\n",
    "        name=\"Assistant\",\n",
    "        instructions=\"You are expert in sales, and marketing\",\n",
    "        model=OpenAIChatCompletionsModel(model=MODEL,openai_client=client)\n",
    "    )\n",
    "    result = await Runner.run(\n",
    "        agent,\n",
    "        'Difference between CRM and ERP in short'\n",
    "    )\n",
    "    print(result)\n",
    "\n",
    "await main()"
   ]
  }
 ],
 "metadata": {
  "kernelspec": {
   "display_name": "base",
   "language": "python",
   "name": "python3"
  },
  "language_info": {
   "codemirror_mode": {
    "name": "ipython",
    "version": 3
   },
   "file_extension": ".py",
   "mimetype": "text/x-python",
   "name": "python",
   "nbconvert_exporter": "python",
   "pygments_lexer": "ipython3",
   "version": "3.11.4"
  }
 },
 "nbformat": 4,
 "nbformat_minor": 5
}
