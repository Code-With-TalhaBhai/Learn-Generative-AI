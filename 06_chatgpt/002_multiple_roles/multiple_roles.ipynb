{
 "cells": [
  {
   "cell_type": "code",
   "execution_count": 11,
   "metadata": {},
   "outputs": [],
   "source": [
    "from dotenv import load_dotenv,find_dotenv\n",
    "import os\n",
    "\n",
    "load_dotenv(find_dotenv('C:/Code_Apps/Learn-Generative-AI/03_chatgpt/.env'))\n",
    "\n",
    "api_key = os.environ.get('OPENAI_API_KEY')"
   ]
  },
  {
   "cell_type": "code",
   "execution_count": 13,
   "metadata": {},
   "outputs": [
    {
     "data": {
      "text/plain": [
       "\"In the world of coding and data storage,\\nThere's a concept that's quite important,\\nIt's called the LinkedList, a clever notion,\\nFor organizing data with motion.\\n\\nImagine a chain of links, all connected,\\nEach one pointing to the next, undetected,\\nThis is how LinkedLists work, you see,\\nA series of nodes, in perfect harmony.\\n\\nEach node holds a piece of information,\\nAnd a reference to the next in the equation,\\nThis dynamic structure is flexible and neat,\\nPerfect for storing data in a linked feat.\\n\\nAdding and removing nodes is a breeze,\\nNo need for big shifts or any unease,\\nJust update the links, and the list adapts,\\nEfficient and smooth, it certainly attracts.\\n\\nTraversal is easy, just follow the links,\\nNo need to search through a sea of data clinks,\\nThis is the essence of the LinkedList art,\\nA powerful tool for any programmer's part.\\n\\nSo next time you need to store data in line,\\nRemember the power of the LinkedList design,\\nA chain of nodes, connected with care,\\nA versatile structure, beyond compare.\""
      ]
     },
     "metadata": {},
     "output_type": "display_data"
    }
   ],
   "source": [
    "from openai import OpenAI\n",
    "from openai.types.chat.chat_completion import ChatCompletion\n",
    "\n",
    "client = OpenAI()\n",
    "\n",
    "def chat_completion(prompt):\n",
    "    response : ChatCompletion = client.chat.completions.create(\n",
    "        messages=[\n",
    "        {\n",
    "            \"role\": \"user\",\n",
    "            \"content\": prompt\n",
    "        },\n",
    "        {\n",
    "            \"role\": \"system\",\n",
    "            \"content\": \"You are great poet, expert in explaining programming concepts especially Data Structures\"\n",
    "        }\n",
    "        ],\n",
    "        model=\"gpt-3.5-turbo-1106\",\n",
    "    )\n",
    "\n",
    "    return response.choices[0].message.content\n",
    "\n",
    "poem = chat_completion(\"Compose a poem which explains LinkedList concept?\")\n",
    "print(poem)"
   ]
  }
 ],
 "metadata": {
  "kernelspec": {
   "display_name": "myenv3_12",
   "language": "python",
   "name": "python3"
  },
  "language_info": {
   "codemirror_mode": {
    "name": "ipython",
    "version": 3
   },
   "file_extension": ".py",
   "mimetype": "text/x-python",
   "name": "python",
   "nbconvert_exporter": "python",
   "pygments_lexer": "ipython3",
   "version": "3.12.0"
  }
 },
 "nbformat": 4,
 "nbformat_minor": 2
}
