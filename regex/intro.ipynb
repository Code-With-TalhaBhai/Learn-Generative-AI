{
 "cells": [
  {
   "cell_type": "code",
   "execution_count": 1,
   "metadata": {},
   "outputs": [],
   "source": [
    "import re\n",
    "\n",
    "# Four types of Regex\n",
    "# 1. findall -> Returns a list containing all matches\n",
    "# 2. search -> Returns a `Match object` if there is a match anywhere in string\n",
    "# 3. split -> Returns a list where string has been split at each match\n",
    "# 4. sub -> Replaces one or many matches in a string\n",
    "\n",
    "\n",
    "a = \"This is regex tutorial\"\n",
    "b = \"talhakhalid411@gmail.com\"\n",
    "c = \"hello\"\n",
    "d = \"xyz xy yz xz yx xyyz xxyz xyzz\"\n",
    "\n",
    "# re.search(pattern,string,flags=0)"
   ]
  },
  {
   "cell_type": "markdown",
   "metadata": {},
   "source": [
    "#### `MetaCharacters`"
   ]
  },
  {
   "cell_type": "code",
   "execution_count": 3,
   "metadata": {},
   "outputs": [],
   "source": [
    "# ● -> Any character excepts a newline\n",
    "# * -> 0 or more repitition\n",
    "# + -> 1 or more repitition\n",
    "# ? -> 0 or 1 repitition\n",
    "# {m} -> m repitions\n",
    "# {m,n} -> m-n repitions"
   ]
  },
  {
   "cell_type": "markdown",
   "metadata": {},
   "source": [
    "### Email validation step-by-step"
   ]
  },
  {
   "cell_type": "code",
   "execution_count": 2,
   "metadata": {},
   "outputs": [
    {
     "name": "stdout",
     "output_type": "stream",
     "text": [
      "valid\n"
     ]
    }
   ],
   "source": [
    "import re\n",
    "\n",
    "email = \"@\"\n",
    "\n",
    "if(re.search(\"@\",email)):\n",
    "    print(\"valid\")\n",
    "else:\n",
    "    print(\"invalid\")"
   ]
  }
 ],
 "metadata": {
  "kernelspec": {
   "display_name": "myenv3_12",
   "language": "python",
   "name": "python3"
  },
  "language_info": {
   "codemirror_mode": {
    "name": "ipython",
    "version": 3
   },
   "file_extension": ".py",
   "mimetype": "text/x-python",
   "name": "python",
   "nbconvert_exporter": "python",
   "pygments_lexer": "ipython3",
   "version": "3.12.0"
  }
 },
 "nbformat": 4,
 "nbformat_minor": 2
}
