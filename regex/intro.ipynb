{
 "cells": [
  {
   "cell_type": "code",
   "execution_count": 1,
   "metadata": {},
   "outputs": [],
   "source": [
    "import re\n",
    "\n",
    "# Four types of Regex\n",
    "# 1. findall -> Returns a list containing all matches\n",
    "# 2. search -> Returns a `Match object` if there is a match anywhere in string\n",
    "# 3. split -> Returns a list where string has been split at each match\n",
    "# 4. sub -> Replaces one or many matches in a string\n",
    "\n",
    "\n",
    "a = \"This is regex tutorial\"\n",
    "b = \"talhakhalid411@gmail.com\"\n",
    "c = \"hello\"\n",
    "d = \"xyz xy yz xz yx xyyz xxyz xyzz\"\n",
    "\n",
    "# re.search(pattern,string,flags=0)"
   ]
  },
  {
   "cell_type": "markdown",
   "metadata": {},
   "source": [
    "#### `MetaCharacters`"
   ]
  },
  {
   "cell_type": "code",
   "execution_count": 3,
   "metadata": {},
   "outputs": [],
   "source": [
    "# ● -> Any character excepts a newline\n",
    "# * -> 0 or more repitition\n",
    "# + -> 1 or more repitition\n",
    "# ? -> 0 or 1 repitition\n",
    "# {m} -> m repitions\n",
    "# {m,n} -> m-n repitions"
   ]
  },
  {
   "cell_type": "markdown",
   "metadata": {},
   "source": [
    "### Email validation step-by-step"
   ]
  },
  {
   "cell_type": "code",
   "execution_count": null,
   "metadata": {},
   "outputs": [],
   "source": [
    "ORIGINAL_EMAIL = \"talhakhalid411@gmail.com\""
   ]
  },
  {
   "cell_type": "code",
   "execution_count": 2,
   "metadata": {},
   "outputs": [
    {
     "name": "stdout",
     "output_type": "stream",
     "text": [
      "valid\n"
     ]
    }
   ],
   "source": [
    "import re\n",
    "\n",
    "invalid_but_valid_email = \"@\"\n",
    "\n",
    "if(re.search(\"@\",invalid_but_valid_email)):\n",
    "    print(\"valid\")\n",
    "else:\n",
    "    print(\"invalid\")"
   ]
  },
  {
   "cell_type": "markdown",
   "metadata": {},
   "source": [
    "#### Meta characters must be used with period(.) otherwise, it is treated as literal"
   ]
  },
  {
   "cell_type": "code",
   "execution_count": 7,
   "metadata": {},
   "outputs": [
    {
     "name": "stdout",
     "output_type": "stream",
     "text": [
      "invalid\n",
      "valid\n"
     ]
    }
   ],
   "source": [
    "import re\n",
    "\n",
    "invalid = \"@\"\n",
    "invalid_but_valid_email = \"t@\"\n",
    "\n",
    "# ● -> Expects some character before @\n",
    "if(re.search(\".@\",invalid)):\n",
    "    print(\"valid\")\n",
    "else:\n",
    "    print(\"invalid\")\n",
    "    \n",
    "if(re.search(\".@\",invalid_but_valid_email)):\n",
    "    print(\"valid\")\n",
    "else:\n",
    "    print(\"invalid\")"
   ]
  },
  {
   "cell_type": "code",
   "execution_count": 12,
   "metadata": {},
   "outputs": [
    {
     "name": "stdout",
     "output_type": "stream",
     "text": [
      "invalid\n",
      "valid\n"
     ]
    }
   ],
   "source": [
    "import re\n",
    "\n",
    "invalid = \"t@\"\n",
    "invalid_but_valid_email = \"t@l\"\n",
    "pattern = \".@.\"\n",
    "\n",
    "# ● -> Expects some character before @ and after\n",
    "if(re.search(pattern,invalid)):\n",
    "    print(\"valid\")\n",
    "else:\n",
    "    print(\"invalid\")\n",
    "    \n",
    "if(re.search(pattern,invalid_but_valid_email)):\n",
    "    print(\"valid\")\n",
    "else:\n",
    "    print(\"invalid\")"
   ]
  },
  {
   "cell_type": "code",
   "execution_count": 13,
   "metadata": {},
   "outputs": [
    {
     "name": "stdout",
     "output_type": "stream",
     "text": [
      "valid\n",
      "valid\n"
     ]
    }
   ],
   "source": [
    "import re\n",
    "\n",
    "invalid = \"t@\"\n",
    "invalid_but_valid_email = \"@l\"\n",
    "\n",
    "# ●* -> Expects zero or more character before @ and after\n",
    "pattern = \".*@.*\"\n",
    "\n",
    "if(re.search(pattern,invalid)):\n",
    "    print(\"valid\")\n",
    "else:\n",
    "    print(\"invalid\")\n",
    "    \n",
    "if(re.search(pattern,invalid_but_valid_email)):\n",
    "    print(\"valid\")\n",
    "else:\n",
    "    print(\"invalid\")"
   ]
  },
  {
   "cell_type": "markdown",
   "metadata": {},
   "source": [
    "#### But we need more than zero character at start or end"
   ]
  },
  {
   "cell_type": "code",
   "execution_count": 18,
   "metadata": {},
   "outputs": [
    {
     "name": "stdout",
     "output_type": "stream",
     "text": [
      "invalid\n",
      "valid\n"
     ]
    }
   ],
   "source": [
    "import re\n",
    "\n",
    "invalid = \"t@\"\n",
    "invalid_but_valid_email = \"t@l\"\n",
    "\n",
    "# ●+ -> Expects one or more character before @ and after\n",
    "pattern = \".+@.+\"\n",
    "\n",
    "if(re.search(pattern,invalid)):\n",
    "    print(\"valid\")\n",
    "else:\n",
    "    print(\"invalid\")\n",
    "    \n",
    "if(re.search(pattern,invalid_but_valid_email)):\n",
    "    print(\"valid\")\n",
    "else:\n",
    "    print(\"invalid\")"
   ]
  },
  {
   "cell_type": "markdown",
   "metadata": {},
   "source": [
    "#### We also need `.com` at the end"
   ]
  },
  {
   "cell_type": "code",
   "execution_count": 31,
   "metadata": {},
   "outputs": [
    {
     "name": "stdout",
     "output_type": "stream",
     "text": [
      "invalid\n",
      "valid\n"
     ]
    }
   ],
   "source": [
    "import re\n",
    "\n",
    "invalid_email = \"t@l\"\n",
    "invalid_but_valid_email = \"t@lyucom\"\n",
    "\n",
    "# . -> Expects or or more character before com\n",
    "# com -> Expects exact match of com\n",
    "pattern = \".+@.+.com\"\n",
    "\n",
    "if(re.search(pattern,invalid_email)):\n",
    "    print(\"valid\")\n",
    "else:\n",
    "    print(\"invalid\")\n",
    "    \n",
    "if(re.search(pattern,invalid_but_valid_email)):\n",
    "    print(\"valid\")\n",
    "else:\n",
    "    print(\"invalid\")"
   ]
  },
  {
   "cell_type": "markdown",
   "metadata": {},
   "source": [
    "#### Any character can be added before `com` but we need to add dot(.) before `com` at email. We have to use escape sequences.\n",
    "\n",
    "##### `In order to use escape sequences we can use a raw string literal by prefixing the regex pattern with \"r\" `"
   ]
  },
  {
   "cell_type": "code",
   "execution_count": 34,
   "metadata": {},
   "outputs": [
    {
     "name": "stdout",
     "output_type": "stream",
     "text": [
      "invalid\n",
      "valid\n"
     ]
    }
   ],
   "source": [
    "import re\n",
    "\n",
    "invalid_email = \"t@lfjdkcom\"\n",
    "invalid_but_valid_email = \"t@l.com\"\n",
    "\n",
    "# . -> Expects or or more character before com\n",
    "# com -> Expects exact match of compattern = \".+@.+.com\"\n",
    "\n",
    "pattern = r\".+@.+\\.com\"\n",
    "if(re.search(pattern,invalid_email)):\n",
    "    print(\"valid\")\n",
    "else:\n",
    "    print(\"invalid\")\n",
    "    \n",
    "if(re.search(pattern,invalid_but_valid_email)):\n",
    "    print(\"valid\")\n",
    "else:\n",
    "    print(\"invalid\")"
   ]
  }
 ],
 "metadata": {
  "kernelspec": {
   "display_name": "myenv3_12",
   "language": "python",
   "name": "python3"
  },
  "language_info": {
   "codemirror_mode": {
    "name": "ipython",
    "version": 3
   },
   "file_extension": ".py",
   "mimetype": "text/x-python",
   "name": "python",
   "nbconvert_exporter": "python",
   "pygments_lexer": "ipython3",
   "version": "3.12.0"
  }
 },
 "nbformat": 4,
 "nbformat_minor": 2
}
