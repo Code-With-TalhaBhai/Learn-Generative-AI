{
 "cells": [
  {
   "cell_type": "code",
   "execution_count": 1,
   "metadata": {},
   "outputs": [],
   "source": [
    "from dotenv import load_dotenv,find_dotenv\n",
    "import os\n",
    "\n",
    "load_dotenv(find_dotenv('C:/Code_Apps/Learn-Generative-AI/03_chatgpt/.env'))\n",
    "\n",
    "api_key = os.environ.get('OPENAI_API_KEY')"
   ]
  },
  {
   "cell_type": "markdown",
   "metadata": {},
   "source": [
    "![ALT TEXT](https://raw.githubusercontent.com/panaverse/learn-generative-ai/788f968387b0ad38bc379c3a4718400e8e42948d/03_chatgpt/05_function_calling/first.png)"
   ]
  },
  {
   "cell_type": "code",
   "execution_count": 3,
   "metadata": {},
   "outputs": [],
   "source": [
    "# Function defining for Function Calling\n",
    "import json\n",
    "\n",
    "def get_local_weather(city:str,unit:str=\"fahrenheit\")->str:\n",
    "    \"\"\"Giving local cities temperature\"\"\"\n",
    "    if \"lahore\" in city.lower():\n",
    "        return json.dumps({\"city\":\"Lahore\",\"temperature\":\"51\",\"unit\":\"fahrenheit\"})\n",
    "    elif \"karachi\" in city.lower():\n",
    "        return json.dumps({\"city\":\"Karachi\",\"temperature\":\"24\",\"unit\":\"celsius\"})\n",
    "    elif \"gilgit\" in city.lower():\n",
    "        return json.dumps({\"city\":\"Gilgit\",\"temperature\":\"24\",\"unit\":\"fahrenheit\"})\n",
    "    else:\n",
    "        return json.dumps({\"city\":city,\"temperature\":\"Insufficient Data\"})\n"
   ]
  },
  {
   "cell_type": "code",
   "execution_count": 11,
   "metadata": {},
   "outputs": [],
   "source": [
    "from openai import OpenAI\n",
    "from openai.types.chat.chat_completion import ChatCompletion,ChatCompletionMessage\n",
    "\n",
    "client = OpenAI()\n",
    "\n",
    "def chat_completion(prompt):\n",
    "    tools = [\n",
    "        {\n",
    "            \"type\": \"function\",\n",
    "            \"function\": {\n",
    "                \"name\": \"get_local_weather\",\n",
    "                \"description\": \"Get the current weather in a given city of Pakistan\",\n",
    "                \"parameters\": {\n",
    "                    \"type\": \"object\",\n",
    "                    \"properties\":{\n",
    "                        \"city\": {\n",
    "                            \"type\": \"string\",\n",
    "                            \"description\": \"The name of the city to get the weather for e.g Lahore , Peshawar\"\n",
    "                        },\n",
    "                        \"unit\":{\n",
    "                            \"type\": \"string\",\n",
    "                            \"description\": \"The unit of temperature to return the weather in e.g Celsius , Fahrenheit\",\n",
    "                            \"enum\": [\"Celsius\", \"Fahrenheit\"] \n",
    "                        }\n",
    "                    },\n",
    "                    \"required\": [\"city\"]\n",
    "                },\n",
    "            }\n",
    "        }\n",
    "    ]\n",
    "\n",
    "    messages = [{\n",
    "            \"role\": \"user\",\n",
    "            \"content\": prompt,\n",
    "            }]\n",
    "\n",
    "    response : ChatCompletion = client.chat.completions.create(\n",
    "        model=\"gpt-3.5-turbo-1106\",\n",
    "        messages=messages,\n",
    "        tools = tools,\n",
    "        tool_choice= \"auto\"\n",
    "    )\n",
    "\n",
    "    display(\"* First Response: \", dict(response))\n",
    "    print()\n",
    "    print()\n",
    "\n",
    "\n",
    "    response_message: ChatCompletionMessage = response.choices[0].message\n",
    "    messages.append(response_message)\n",
    "    display(\"Appended Messages: \", list(messages))\n",
    "    print()\n",
    "    print()\n",
    "\n",
    "\n",
    "    toolcalls = response_message.tool_calls\n",
    "    display(\"* First Response Tool calls: \", list(toolcalls))\n",
    "    print()\n",
    "    print()\n",
    "\n",
    "\n",
    "\n",
    "    if toolcalls:\n",
    "        available_functions = {\n",
    "            'get_local_weather': get_local_weather\n",
    "        }\n",
    "        print(\"Toolcalls detail: \")\n",
    "        \n",
    "\n",
    "        for tool in toolcalls:\n",
    "            function_name = tool.function.name\n",
    "            function_parameters = json.loads(tool.function.arguments) # json.loads->string to json\n",
    "            function_to_call = available_functions[function_name]\n",
    "            function_response = function_to_call(\n",
    "                city=function_parameters[\"city\"],\n",
    "                unit=function_parameters[\"unit\"]\n",
    "            ) # Function Calling is happening (Orchestration)\n",
    "\n",
    "            messages.append({\n",
    "                \"tool_call_id\": tool.id,\n",
    "                \"name\": function_name,\n",
    "                \"role\": \"tool\",\n",
    "                \"content\": function_response\n",
    "            })\n",
    "            \n",
    "        display(\"* Second Request Messages: \", list(messages))\n",
    "\n",
    "        finalResponse = client.chat.completions.create(\n",
    "            model=\"gpt-3.5-turbo-1106\",\n",
    "            messages=messages,\n",
    "        )\n",
    "\n",
    "        display(\"* Final Response: \", dict(finalResponse))\n",
    "        print()\n",
    "        print()\n",
    "        return finalResponse.choices[0].message.content"
   ]
  },
  {
   "cell_type": "code",
   "execution_count": 14,
   "metadata": {},
   "outputs": [
    {
     "data": {
      "text/plain": [
       "'* First Response: '"
      ]
     },
     "metadata": {},
     "output_type": "display_data"
    },
    {
     "data": {
      "text/plain": [
       "{'id': 'chatcmpl-8mvtaodMvccMvvgqWLboVUngjMjbV',\n",
       " 'choices': [Choice(finish_reason='tool_calls', index=0, logprobs=None, message=ChatCompletionMessage(content=None, role='assistant', function_call=None, tool_calls=[ChatCompletionMessageToolCall(id='call_CjL2oRuYKuI17c0n3j2PcLmR', function=Function(arguments='{\"city\": \"Karachi\", \"unit\": \"Celsius\"}', name='get_local_weather'), type='function'), ChatCompletionMessageToolCall(id='call_nV3MLN5YyO3qx3T7Zg6OJRxi', function=Function(arguments='{\"city\": \"San Francisco\", \"unit\": \"Celsius\"}', name='get_local_weather'), type='function'), ChatCompletionMessageToolCall(id='call_gamxK693U512rAZ9RweqGmuv', function=Function(arguments='{\"city\": \"Lahore\", \"unit\": \"Celsius\"}', name='get_local_weather'), type='function')]))],\n",
       " 'created': 1706672986,\n",
       " 'model': 'gpt-3.5-turbo-1106',\n",
       " 'object': 'chat.completion',\n",
       " 'system_fingerprint': 'fp_b57c83dd65',\n",
       " 'usage': CompletionUsage(completion_tokens=79, prompt_tokens=139, total_tokens=218)}"
      ]
     },
     "metadata": {},
     "output_type": "display_data"
    },
    {
     "name": "stdout",
     "output_type": "stream",
     "text": [
      "\n",
      "\n"
     ]
    },
    {
     "data": {
      "text/plain": [
       "'Appended Messages: '"
      ]
     },
     "metadata": {},
     "output_type": "display_data"
    },
    {
     "data": {
      "text/plain": [
       "[{'role': 'user',\n",
       "  'content': 'What is the weather in Karachi, and in San Francisco, And in Lahore also? All are given line-by-line, And also let me know if the given city belong to Pakistan or any other Country?'},\n",
       " ChatCompletionMessage(content=None, role='assistant', function_call=None, tool_calls=[ChatCompletionMessageToolCall(id='call_CjL2oRuYKuI17c0n3j2PcLmR', function=Function(arguments='{\"city\": \"Karachi\", \"unit\": \"Celsius\"}', name='get_local_weather'), type='function'), ChatCompletionMessageToolCall(id='call_nV3MLN5YyO3qx3T7Zg6OJRxi', function=Function(arguments='{\"city\": \"San Francisco\", \"unit\": \"Celsius\"}', name='get_local_weather'), type='function'), ChatCompletionMessageToolCall(id='call_gamxK693U512rAZ9RweqGmuv', function=Function(arguments='{\"city\": \"Lahore\", \"unit\": \"Celsius\"}', name='get_local_weather'), type='function')])]"
      ]
     },
     "metadata": {},
     "output_type": "display_data"
    },
    {
     "name": "stdout",
     "output_type": "stream",
     "text": [
      "\n",
      "\n"
     ]
    },
    {
     "data": {
      "text/plain": [
       "'* First Response Tool calls: '"
      ]
     },
     "metadata": {},
     "output_type": "display_data"
    },
    {
     "data": {
      "text/plain": [
       "[ChatCompletionMessageToolCall(id='call_CjL2oRuYKuI17c0n3j2PcLmR', function=Function(arguments='{\"city\": \"Karachi\", \"unit\": \"Celsius\"}', name='get_local_weather'), type='function'),\n",
       " ChatCompletionMessageToolCall(id='call_nV3MLN5YyO3qx3T7Zg6OJRxi', function=Function(arguments='{\"city\": \"San Francisco\", \"unit\": \"Celsius\"}', name='get_local_weather'), type='function'),\n",
       " ChatCompletionMessageToolCall(id='call_gamxK693U512rAZ9RweqGmuv', function=Function(arguments='{\"city\": \"Lahore\", \"unit\": \"Celsius\"}', name='get_local_weather'), type='function')]"
      ]
     },
     "metadata": {},
     "output_type": "display_data"
    },
    {
     "name": "stdout",
     "output_type": "stream",
     "text": [
      "\n",
      "\n",
      "Toolcalls detail: \n"
     ]
    },
    {
     "data": {
      "text/plain": [
       "'* Second Request Messages: '"
      ]
     },
     "metadata": {},
     "output_type": "display_data"
    },
    {
     "data": {
      "text/plain": [
       "[{'role': 'user',\n",
       "  'content': 'What is the weather in Karachi, and in San Francisco, And in Lahore also? All are given line-by-line, And also let me know if the given city belong to Pakistan or any other Country?'},\n",
       " ChatCompletionMessage(content=None, role='assistant', function_call=None, tool_calls=[ChatCompletionMessageToolCall(id='call_CjL2oRuYKuI17c0n3j2PcLmR', function=Function(arguments='{\"city\": \"Karachi\", \"unit\": \"Celsius\"}', name='get_local_weather'), type='function'), ChatCompletionMessageToolCall(id='call_nV3MLN5YyO3qx3T7Zg6OJRxi', function=Function(arguments='{\"city\": \"San Francisco\", \"unit\": \"Celsius\"}', name='get_local_weather'), type='function'), ChatCompletionMessageToolCall(id='call_gamxK693U512rAZ9RweqGmuv', function=Function(arguments='{\"city\": \"Lahore\", \"unit\": \"Celsius\"}', name='get_local_weather'), type='function')]),\n",
       " {'tool_call_id': 'call_CjL2oRuYKuI17c0n3j2PcLmR',\n",
       "  'name': 'get_local_weather',\n",
       "  'role': 'tool',\n",
       "  'content': '{\"city\": \"Karachi\", \"temperature\": \"24\", \"unit\": \"celsius\"}'},\n",
       " {'tool_call_id': 'call_nV3MLN5YyO3qx3T7Zg6OJRxi',\n",
       "  'name': 'get_local_weather',\n",
       "  'role': 'tool',\n",
       "  'content': '{\"city\": \"San Francisco\", \"temperature\": \"Insufficient Data\"}'},\n",
       " {'tool_call_id': 'call_gamxK693U512rAZ9RweqGmuv',\n",
       "  'name': 'get_local_weather',\n",
       "  'role': 'tool',\n",
       "  'content': '{\"city\": \"Lahore\", \"temperature\": \"51\", \"unit\": \"fahrenheit\"}'}]"
      ]
     },
     "metadata": {},
     "output_type": "display_data"
    },
    {
     "data": {
      "text/plain": [
       "'* Final Response: '"
      ]
     },
     "metadata": {},
     "output_type": "display_data"
    },
    {
     "data": {
      "text/plain": [
       "{'id': 'chatcmpl-8mvtdPOJncnAaUksD3vZOvg3Yot8e',\n",
       " 'choices': [Choice(finish_reason='stop', index=0, logprobs=None, message=ChatCompletionMessage(content='The weather in Karachi is 24°C. Karachi is in Pakistan.\\n\\nThe weather in San Francisco is not available.\\n\\nThe weather in Lahore is 51°F. Lahore is in Pakistan.', role='assistant', function_call=None, tool_calls=None))],\n",
       " 'created': 1706672989,\n",
       " 'model': 'gpt-3.5-turbo-1106',\n",
       " 'object': 'chat.completion',\n",
       " 'system_fingerprint': 'fp_b57c83dd65',\n",
       " 'usage': CompletionUsage(completion_tokens=37, prompt_tokens=195, total_tokens=232)}"
      ]
     },
     "metadata": {},
     "output_type": "display_data"
    },
    {
     "name": "stdout",
     "output_type": "stream",
     "text": [
      "\n",
      "\n",
      "The weather in Karachi is 24°C. Karachi is in Pakistan.\n",
      "\n",
      "The weather in San Francisco is not available.\n",
      "\n",
      "The weather in Lahore is 51°F. Lahore is in Pakistan.\n"
     ]
    }
   ],
   "source": [
    "print(chat_completion(\"What is the weather in Karachi, and in San Francisco, And in Lahore also? All are given line-by-line, And also let me know if the given city belong to Pakistan or any other Country?\"))"
   ]
  },
  {
   "cell_type": "code",
   "execution_count": null,
   "metadata": {},
   "outputs": [],
   "source": []
  }
 ],
 "metadata": {
  "kernelspec": {
   "display_name": "myenv3_12",
   "language": "python",
   "name": "python3"
  },
  "language_info": {
   "codemirror_mode": {
    "name": "ipython",
    "version": 3
   },
   "file_extension": ".py",
   "mimetype": "text/x-python",
   "name": "python",
   "nbconvert_exporter": "python",
   "pygments_lexer": "ipython3",
   "version": "3.12.0"
  }
 },
 "nbformat": 4,
 "nbformat_minor": 2
}
