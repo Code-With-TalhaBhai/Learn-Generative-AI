{
 "cells": [
  {
   "cell_type": "markdown",
   "metadata": {},
   "source": [
    "# Open AI Assistants API\n",
    "The new Assistants API is a stateful evolution of Chat Completions API meant to simplify the creation of assistant-like experiences, and enable developer access to powerful tools like Code Interpreter and Retrieval.\n",
    "![ALT text](https://raw.githubusercontent.com/panaverse/learn-generative-ai/788f968387b0ad38bc379c3a4718400e8e42948d/03_chatgpt/06_assistants_code_interpreter/assistants.png)"
   ]
  },
  {
   "cell_type": "code",
   "execution_count": 16,
   "metadata": {},
   "outputs": [],
   "source": [
    "from dotenv import load_dotenv,find_dotenv\n",
    "import os\n",
    "\n",
    "load_dotenv(find_dotenv('C:/Code_Apps/Learn-Generative-AI/03_chatgpt/.env'))\n",
    "\n",
    "api_key = os.environ.get('OPENAI_API_KEY')"
   ]
  },
  {
   "cell_type": "code",
   "execution_count": 17,
   "metadata": {},
   "outputs": [],
   "source": [
    "from openai import OpenAI\n",
    "client = OpenAI()"
   ]
  },
  {
   "cell_type": "markdown",
   "metadata": {},
   "source": [
    "### Code Interpreter\n",
    "Code Interpreter allows the Assistants API to write and run Python code in a sandboxed execution environment. This tool can process files with diverse data and formatting, and generate files with data and images of graphs. Code Interpreter allows your Assistant to run code iteratively to solve challenging code and math problems. When your Assistant writes code that fails to run, it can iterate on this code by attempting to run different code until the code execution succeeds.<br>\n",
    "https://platform.openai.com/docs/assistants/tools/code-interpreter"
   ]
  },
  {
   "cell_type": "markdown",
   "metadata": {},
   "source": [
    "## Step 1: Creating an Assistant"
   ]
  },
  {
   "cell_type": "code",
   "execution_count": 35,
   "metadata": {},
   "outputs": [
    {
     "data": {
      "text/plain": [
       "{'id': 'asst_FfRNsTJ6GTyo1VnNJEfiJrPg',\n",
       " 'created_at': 1706730675,\n",
       " 'description': None,\n",
       " 'file_ids': [],\n",
       " 'instructions': 'You are an expert Physics tutor, having expertise in solving Physics numericals and equations',\n",
       " 'metadata': {},\n",
       " 'model': 'gpt-3.5-turbo-1106',\n",
       " 'name': 'Physics Tutor',\n",
       " 'object': 'assistant',\n",
       " 'tools': [ToolCodeInterpreter(type='code_interpreter')]}"
      ]
     },
     "metadata": {},
     "output_type": "display_data"
    }
   ],
   "source": [
    "from openai.types.beta.assistant import Assistant\n",
    "assistant : Assistant = client.beta.assistants.create(\n",
    "    name=\"Physics Tutor\",\n",
    "    instructions=\"You are an expert Physics tutor, having expertise in solving Physics numericals and equations\",\n",
    "    model=\"gpt-3.5-turbo-1106\",\n",
    "    tools=[{\"type\":\"code_interpreter\"}]\n",
    ")\n",
    "\n",
    "display(dict(assistant))"
   ]
  },
  {
   "cell_type": "markdown",
   "metadata": {},
   "source": [
    "## Step 2: Creating Thread"
   ]
  },
  {
   "cell_type": "code",
   "execution_count": 34,
   "metadata": {},
   "outputs": [
    {
     "data": {
      "text/plain": [
       "{'id': 'thread_fBnISq60zaL0mnFzyROdxz76',\n",
       " 'created_at': 1706730664,\n",
       " 'metadata': {},\n",
       " 'object': 'thread'}"
      ]
     },
     "metadata": {},
     "output_type": "display_data"
    }
   ],
   "source": [
    "from openai.types.beta.thread import Thread\n",
    "thread : Thread = client.beta.threads.create()\n",
    "display(dict(thread))"
   ]
  },
  {
   "cell_type": "markdown",
   "metadata": {},
   "source": [
    "## Step 3: Attaching messages to Thread"
   ]
  },
  {
   "cell_type": "code",
   "execution_count": 36,
   "metadata": {},
   "outputs": [
    {
     "data": {
      "text/plain": [
       "[('id', 'msg_9Dd2W0vxpXkOFrYG5qOfVEDj'),\n",
       " ('assistant_id', None),\n",
       " ('content',\n",
       "  [MessageContentText(text=Text(annotations=[], value='What is the velocity of the car, if it covers 15km in 2 minutes'), type='text')]),\n",
       " ('created_at', 1706730686),\n",
       " ('file_ids', []),\n",
       " ('metadata', {}),\n",
       " ('object', 'thread.message'),\n",
       " ('role', 'user'),\n",
       " ('run_id', None),\n",
       " ('thread_id', 'thread_fBnISq60zaL0mnFzyROdxz76')]"
      ]
     },
     "metadata": {},
     "output_type": "display_data"
    }
   ],
   "source": [
    "from openai.types.beta.threads.thread_message import ThreadMessage\n",
    "\n",
    "thread_msg : ThreadMessage = client.beta.threads.messages.create(\n",
    "    thread_id=thread.id,\n",
    "    role=\"user\",\n",
    "    content=\"What is the velocity of the car, if it covers 15km in 2 minutes\"\n",
    ")\n",
    "display(list(thread_msg))"
   ]
  },
  {
   "cell_type": "code",
   "execution_count": 33,
   "metadata": {},
   "outputs": [
    {
     "data": {
      "text/plain": [
       "[('id', 'msg_6r6T7Y9pqJS89H7M3FrNOEvF'),\n",
       " ('assistant_id', None),\n",
       " ('content',\n",
       "  [MessageContentText(text=Text(annotations=[], value='What if it covers 20 km'), type='text')]),\n",
       " ('created_at', 1706730651),\n",
       " ('file_ids', []),\n",
       " ('metadata', {}),\n",
       " ('object', 'thread.message'),\n",
       " ('role', 'user'),\n",
       " ('run_id', None),\n",
       " ('thread_id', 'thread_eBVKKab3tBbGvn85uNzxpnAR')]"
      ]
     },
     "metadata": {},
     "output_type": "display_data"
    }
   ],
   "source": [
    "from openai.types.beta.threads.thread_message import ThreadMessage\n",
    "\n",
    "thread_msg2 : ThreadMessage = client.beta.threads.messages.create(\n",
    "    thread_id=thread.id,\n",
    "    role=\"user\",\n",
    "    content=\"What if it covers 20 km\"\n",
    ")\n",
    "display(list(thread_msg2))"
   ]
  },
  {
   "cell_type": "markdown",
   "metadata": {},
   "source": [
    "## Step 4: Run the Assistant"
   ]
  },
  {
   "cell_type": "code",
   "execution_count": 37,
   "metadata": {},
   "outputs": [
    {
     "data": {
      "text/plain": [
       "{'id': 'run_gAxARdQnaOQJp8EMbYB4gnE2',\n",
       " 'assistant_id': 'asst_FfRNsTJ6GTyo1VnNJEfiJrPg',\n",
       " 'cancelled_at': None,\n",
       " 'completed_at': None,\n",
       " 'created_at': 1706730716,\n",
       " 'expires_at': 1706731316,\n",
       " 'failed_at': None,\n",
       " 'file_ids': [],\n",
       " 'instructions': 'Please return the values with their SI units',\n",
       " 'last_error': None,\n",
       " 'metadata': {},\n",
       " 'model': 'gpt-3.5-turbo-1106',\n",
       " 'object': 'thread.run',\n",
       " 'required_action': None,\n",
       " 'started_at': None,\n",
       " 'status': 'queued',\n",
       " 'thread_id': 'thread_fBnISq60zaL0mnFzyROdxz76',\n",
       " 'tools': [ToolAssistantToolsCode(type='code_interpreter')],\n",
       " 'usage': None}"
      ]
     },
     "metadata": {},
     "output_type": "display_data"
    }
   ],
   "source": [
    "from openai.types.beta.threads.run import Run\n",
    "run_thread : Run = client.beta.threads.runs.create(\n",
    "    thread_id=thread.id,\n",
    "    assistant_id=assistant.id,\n",
    "    instructions=\"Please return the values with their SI units\"\n",
    ")\n",
    "display(dict(run_thread))"
   ]
  },
  {
   "cell_type": "markdown",
   "metadata": {},
   "source": [
    "## Step 5: Check the Run Status"
   ]
  },
  {
   "cell_type": "code",
   "execution_count": 38,
   "metadata": {},
   "outputs": [
    {
     "data": {
      "text/plain": [
       "{'id': 'run_gAxARdQnaOQJp8EMbYB4gnE2',\n",
       " 'assistant_id': 'asst_FfRNsTJ6GTyo1VnNJEfiJrPg',\n",
       " 'cancelled_at': None,\n",
       " 'completed_at': 1706730721,\n",
       " 'created_at': 1706730716,\n",
       " 'expires_at': None,\n",
       " 'failed_at': None,\n",
       " 'file_ids': [],\n",
       " 'instructions': 'Please return the values with their SI units',\n",
       " 'last_error': None,\n",
       " 'metadata': {},\n",
       " 'model': 'gpt-3.5-turbo-1106',\n",
       " 'object': 'thread.run',\n",
       " 'required_action': None,\n",
       " 'started_at': 1706730716,\n",
       " 'status': 'completed',\n",
       " 'thread_id': 'thread_fBnISq60zaL0mnFzyROdxz76',\n",
       " 'tools': [ToolAssistantToolsCode(type='code_interpreter')],\n",
       " 'usage': Usage(completion_tokens=58, prompt_tokens=303, total_tokens=361)}"
      ]
     },
     "metadata": {},
     "output_type": "display_data"
    }
   ],
   "source": [
    "run : Run = client.beta.threads.runs.retrieve(\n",
    "    thread_id = thread.id,\n",
    "    run_id =    run_thread.id\n",
    ")\n",
    "display(dict(run))"
   ]
  },
  {
   "cell_type": "markdown",
   "metadata": {},
   "source": [
    "## Step 6: Display the Assistant Response"
   ]
  },
  {
   "cell_type": "code",
   "execution_count": 31,
   "metadata": {},
   "outputs": [
    {
     "name": "stdout",
     "output_type": "stream",
     "text": [
      "Messages:  SyncCursorPage[ThreadMessage](data=[ThreadMessage(id='msg_fsvtFnf1qOqazRZusFIg7rkW', assistant_id='asst_5zu2j2lfiqJJceErpOn00ovj', content=[MessageContentText(text=Text(annotations=[], value='If the car covers 20 km in 2 minutes, the velocity will be \\\\(166.67 \\\\, m/s\\\\)'), type='text')], created_at=1706730380, file_ids=[], metadata={}, object='thread.message', role='assistant', run_id='run_0iaXztybuwQ3C8POg2HDb6rX', thread_id='thread_eBVKKab3tBbGvn85uNzxpnAR'), ThreadMessage(id='msg_W9Aow2UaBKmevasSD0zOnOwr', assistant_id=None, content=[MessageContentText(text=Text(annotations=[], value='What if it covers 20 km'), type='text')], created_at=1706730369, file_ids=[], metadata={}, object='thread.message', role='user', run_id=None, thread_id='thread_eBVKKab3tBbGvn85uNzxpnAR'), ThreadMessage(id='msg_USFGSlU4RG3sTn4M8IpUElUa', assistant_id='asst_5zu2j2lfiqJJceErpOn00ovj', content=[MessageContentText(text=Text(annotations=[], value='The velocity of the car is \\\\(125 \\\\, m/s\\\\)'), type='text')], created_at=1706730197, file_ids=[], metadata={}, object='thread.message', role='assistant', run_id='run_bPeeuW3ZgiNYKvAvD0lUBBie', thread_id='thread_eBVKKab3tBbGvn85uNzxpnAR'), ThreadMessage(id='msg_coIY4f5kontVDIuvbjnZkseg', assistant_id=None, content=[MessageContentText(text=Text(annotations=[], value='What is the velocity of the car, if it covers 15km in 2 minutes'), type='text')], created_at=1706730184, file_ids=[], metadata={}, object='thread.message', role='user', run_id=None, thread_id='thread_eBVKKab3tBbGvn85uNzxpnAR')], object='list', first_id='msg_fsvtFnf1qOqazRZusFIg7rkW', last_id='msg_coIY4f5kontVDIuvbjnZkseg', has_more=False)\n",
      "\n",
      "\n",
      "user: What is the velocity of the car, if it covers 15km in 2 minutes\n",
      "assistant: The velocity of the car is \\(125 \\, m/s\\)\n",
      "user: What if it covers 20 km\n",
      "assistant: If the car covers 20 km in 2 minutes, the velocity will be \\(166.67 \\, m/s\\)\n"
     ]
    }
   ],
   "source": [
    "messages = client.beta.threads.messages.list(\n",
    "    thread_id=thread.id,\n",
    ")\n",
    "\n",
    "# reversed(list) -> Does not modify original list\n",
    "# list.reverse() -> Modifies original list\n",
    "print('Messages: ',messages)\n",
    "print()\n",
    "print()\n",
    "\n",
    "for msg in reversed(messages.data):\n",
    "    print(f\"{msg.role}: {msg.content[0].text.value}\")"
   ]
  }
 ],
 "metadata": {
  "kernelspec": {
   "display_name": "myenv3_12",
   "language": "python",
   "name": "python3"
  },
  "language_info": {
   "codemirror_mode": {
    "name": "ipython",
    "version": 3
   },
   "file_extension": ".py",
   "mimetype": "text/x-python",
   "name": "python",
   "nbconvert_exporter": "python",
   "pygments_lexer": "ipython3",
   "version": "3.12.0"
  }
 },
 "nbformat": 4,
 "nbformat_minor": 2
}
