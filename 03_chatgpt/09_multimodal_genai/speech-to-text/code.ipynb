{
 "cells": [
  {
   "cell_type": "markdown",
   "metadata": {},
   "source": [
    "## Introduction\n",
    "\n",
    "The Audio API provides two speech to text endpoints, transcriptions and translations, based on our state-of-the-art open source large-v2 Whisper model. They can be used to:\n",
    "\n",
    "Transcribe audio into whatever language the audio is in.\n",
    "\n",
    "* Translate and transcribe the audio into english.\n",
    "* File uploads are currently limited to 25 MB and the following input file types are supported: mp3, mp4, mpeg, mpga, m4a, wav, and webm.\n",
    "\n",
    "### Transcription\n",
    "\n",
    "The transcriptions API takes as input the audio file you want to transcribe and the desired output file format for the transcription of the audio. We currently support multiple input and output file formats.<br>\n",
    "\n",
    "By default, the response type will be json with the raw text included.<br>\n",
    "    {<br>\n",
    "    \"text\": \"Imagine the wildest idea that you've ever had, and you're curious about how it might scale to something that's a 100, a 1,000 times bigger.\n",
    "    ....\n",
    "    <br>}"
   ]
  },
  {
   "cell_type": "code",
   "execution_count": 2,
   "metadata": {},
   "outputs": [],
   "source": [
    "from dotenv import load_dotenv,find_dotenv\n",
    "import os\n",
    "\n",
    "load_dotenv(find_dotenv('C:/Code_Apps/Learn-Generative-AI/03_chatgpt/.env'))\n",
    "\n",
    "api_key = os.environ.get('OPENAI_API_KEY')"
   ]
  },
  {
   "cell_type": "code",
   "execution_count": 3,
   "metadata": {},
   "outputs": [],
   "source": [
    "from openai import OpenAI\n",
    "client = OpenAI()"
   ]
  },
  {
   "cell_type": "code",
   "execution_count": 7,
   "metadata": {},
   "outputs": [
    {
     "data": {
      "text/plain": [
       "Transcription(text='ڈیل تو ان کا پاکستانیوں کو بہت ساری کرنے کا ہے مگر ہم نے پڑھائی پہلے کرنی ہے سادیاں بعد میں اچھا جی آج ہم ایک بڑا important topic cover کریں گے جو ایک طرح سے')"
      ]
     },
     "execution_count": 7,
     "metadata": {},
     "output_type": "execute_result"
    }
   ],
   "source": [
    "audiofile = open('Recording.m4a',\"rb\")\n",
    "\n",
    "transcipt = client.audio.transcriptions.create(\n",
    "    model=\"whisper-1\",\n",
    "    file=audiofile,\n",
    "    language='ur'\n",
    ")\n",
    "transcipt"
   ]
  },
  {
   "cell_type": "code",
   "execution_count": 9,
   "metadata": {},
   "outputs": [],
   "source": [
    "## writing in file by custom python code\n",
    "\n",
    "with open('transcription.txt','w+') as file:\n",
    "    file.write(transcipt.text)"
   ]
  },
  {
   "cell_type": "markdown",
   "metadata": {},
   "source": [
    "### Translation"
   ]
  },
  {
   "cell_type": "code",
   "execution_count": 4,
   "metadata": {},
   "outputs": [
    {
     "data": {
      "text/plain": [
       "Translation(text=\"We have a lot to do for all the Pakistanis, but we have to study first, we'll get married later. Today, we will cover a very important topic.\")"
      ]
     },
     "execution_count": 4,
     "metadata": {},
     "output_type": "execute_result"
    }
   ],
   "source": [
    "audiofile = open('Recording.m4a',\"rb\")\n",
    "translation = client.audio.translations.create(\n",
    "    model=\"whisper-1\",\n",
    "    file=audiofile\n",
    ")\n",
    "translation"
   ]
  },
  {
   "cell_type": "code",
   "execution_count": 6,
   "metadata": {},
   "outputs": [],
   "source": [
    "## writing in file by custom python code\n",
    "\n",
    "with open('translation.txt','w+') as file:\n",
    "    file.write(translation.text)"
   ]
  }
 ],
 "metadata": {
  "kernelspec": {
   "display_name": "myenv3_12",
   "language": "python",
   "name": "python3"
  },
  "language_info": {
   "codemirror_mode": {
    "name": "ipython",
    "version": 3
   },
   "file_extension": ".py",
   "mimetype": "text/x-python",
   "name": "python",
   "nbconvert_exporter": "python",
   "pygments_lexer": "ipython3",
   "version": "3.12.0"
  }
 },
 "nbformat": 4,
 "nbformat_minor": 2
}
